{
 "cells": [
  {
   "cell_type": "markdown",
   "metadata": {},
   "source": [
    "# Python | Pandas DataFrame"
   ]
  },
  {
   "cell_type": "markdown",
   "metadata": {},
   "source": [
    "### What is Pandas?"
   ]
  },
  {
   "cell_type": "markdown",
   "metadata": {},
   "source": [
    "<b>pandas</b> is a software library written for the Python programming language for data manipulation and analysis. In particular, it offers data structures and operations for manipulating numerical tables and time series. "
   ]
  },
  {
   "cell_type": "markdown",
   "metadata": {},
   "source": [
    "### What is a Pandas DataFrame?"
   ]
  },
  {
   "cell_type": "markdown",
   "metadata": {},
   "source": [
    "<b>Pandas DataFrame</b> is two-dimensional size-mutable, potentially heterogeneous tabular data structure with labeled axes (rows and columns). \n",
    "\n",
    "A Data frame is a two-dimensional data structure, i.e., data is aligned in a tabular fashion in rows and columns. \n",
    "\n",
    "Pandas DataFrame consists of three principal components, the data, rows, and columns."
   ]
  },
  {
   "cell_type": "markdown",
   "metadata": {},
   "source": [
    "<img src=\"images/pandas.jpg\">"
   ]
  },
  {
   "cell_type": "markdown",
   "metadata": {},
   "source": [
    "A Pandas DataFrame will be created by loading the datasets from existing storage. Storage can be SQL Database, CSV file, and Excel file. \n",
    "Pandas DataFrame can be created from the lists, dictionary, and from a list of dictionary etc.\n",
    "\n",
    "Dataframe can be created in different ways here are some ways by which we create a dataframe:\n"
   ]
  },
  {
   "cell_type": "markdown",
   "metadata": {},
   "source": [
    "### Creating a dataframe using List:"
   ]
  },
  {
   "cell_type": "code",
   "execution_count": 3,
   "metadata": {},
   "outputs": [
    {
     "data": {
      "application/vnd.microsoft.datawrangler.viewer.v0+json": {
       "columns": [
        {
         "name": "index",
         "rawType": "int64",
         "type": "integer"
        },
        {
         "name": "0",
         "rawType": "object",
         "type": "string"
        }
       ],
       "conversionMethod": "pd.DataFrame",
       "ref": "52fc23a9-a6eb-480c-87f8-8cba021b213a",
       "rows": [
        [
         "0",
         "CSC"
        ],
        [
         "1",
         "102"
        ],
        [
         "2",
         "is"
        ],
        [
         "3",
         "the"
        ],
        [
         "4",
         "best"
        ],
        [
         "5",
         "course"
        ],
        [
         "6",
         "ever"
        ]
       ],
       "shape": {
        "columns": 1,
        "rows": 7
       }
      },
      "text/html": [
       "<div>\n",
       "<style scoped>\n",
       "    .dataframe tbody tr th:only-of-type {\n",
       "        vertical-align: middle;\n",
       "    }\n",
       "\n",
       "    .dataframe tbody tr th {\n",
       "        vertical-align: top;\n",
       "    }\n",
       "\n",
       "    .dataframe thead th {\n",
       "        text-align: right;\n",
       "    }\n",
       "</style>\n",
       "<table border=\"1\" class=\"dataframe\">\n",
       "  <thead>\n",
       "    <tr style=\"text-align: right;\">\n",
       "      <th></th>\n",
       "      <th>0</th>\n",
       "    </tr>\n",
       "  </thead>\n",
       "  <tbody>\n",
       "    <tr>\n",
       "      <th>0</th>\n",
       "      <td>CSC</td>\n",
       "    </tr>\n",
       "    <tr>\n",
       "      <th>1</th>\n",
       "      <td>102</td>\n",
       "    </tr>\n",
       "    <tr>\n",
       "      <th>2</th>\n",
       "      <td>is</td>\n",
       "    </tr>\n",
       "    <tr>\n",
       "      <th>3</th>\n",
       "      <td>the</td>\n",
       "    </tr>\n",
       "    <tr>\n",
       "      <th>4</th>\n",
       "      <td>best</td>\n",
       "    </tr>\n",
       "    <tr>\n",
       "      <th>5</th>\n",
       "      <td>course</td>\n",
       "    </tr>\n",
       "    <tr>\n",
       "      <th>6</th>\n",
       "      <td>ever</td>\n",
       "    </tr>\n",
       "  </tbody>\n",
       "</table>\n",
       "</div>"
      ],
      "text/plain": [
       "        0\n",
       "0     CSC\n",
       "1     102\n",
       "2      is\n",
       "3     the\n",
       "4    best\n",
       "5  course\n",
       "6    ever"
      ]
     },
     "execution_count": 3,
     "metadata": {},
     "output_type": "execute_result"
    }
   ],
   "source": [
    "# import pandas as pd\n",
    "import pandas as pd\n",
    " \n",
    "# list of strings\n",
    "lyst = ['CSC', '102', 'is', 'the', 'best', 'course', 'ever']\n",
    " \n",
    "# Calling DataFrame constructor on list\n",
    "df = pd.DataFrame(lyst)\n",
    "\n",
    "# Print the output.\n",
    "df"
   ]
  },
  {
   "cell_type": "markdown",
   "metadata": {},
   "source": [
    "### Creating a dataframe using dict of narray/lists:"
   ]
  },
  {
   "cell_type": "code",
   "execution_count": null,
   "metadata": {},
   "outputs": [
    {
     "data": {
      "application/vnd.microsoft.datawrangler.viewer.v0+json": {
       "columns": [
        {
         "name": "index",
         "rawType": "int64",
         "type": "integer"
        },
        {
         "name": "Name",
         "rawType": "object",
         "type": "string"
        },
        {
         "name": "Age",
         "rawType": "int64",
         "type": "integer"
        }
       ],
       "ref": "3fd6a868-60be-4673-bb5c-5b968704e60a",
       "rows": [
        [
         "0",
         "Angela",
         "20"
        ],
        [
         "1",
         "Precious",
         "21"
        ],
        [
         "2",
         "Luis",
         "19"
        ],
        [
         "3",
         "Ade",
         "18"
        ],
        [
         "4",
         "",
         "20"
        ]
       ],
       "shape": {
        "columns": 2,
        "rows": 5
       }
      },
      "text/html": [
       "<div>\n",
       "<style scoped>\n",
       "    .dataframe tbody tr th:only-of-type {\n",
       "        vertical-align: middle;\n",
       "    }\n",
       "\n",
       "    .dataframe tbody tr th {\n",
       "        vertical-align: top;\n",
       "    }\n",
       "\n",
       "    .dataframe thead th {\n",
       "        text-align: right;\n",
       "    }\n",
       "</style>\n",
       "<table border=\"1\" class=\"dataframe\">\n",
       "  <thead>\n",
       "    <tr style=\"text-align: right;\">\n",
       "      <th></th>\n",
       "      <th>Name</th>\n",
       "      <th>Age</th>\n",
       "    </tr>\n",
       "  </thead>\n",
       "  <tbody>\n",
       "    <tr>\n",
       "      <th>0</th>\n",
       "      <td>Angela</td>\n",
       "      <td>20</td>\n",
       "    </tr>\n",
       "    <tr>\n",
       "      <th>1</th>\n",
       "      <td>Precious</td>\n",
       "      <td>21</td>\n",
       "    </tr>\n",
       "    <tr>\n",
       "      <th>2</th>\n",
       "      <td>Luis</td>\n",
       "      <td>19</td>\n",
       "    </tr>\n",
       "    <tr>\n",
       "      <th>3</th>\n",
       "      <td>Ade</td>\n",
       "      <td>18</td>\n",
       "    </tr>\n",
       "    <tr>\n",
       "      <th>4</th>\n",
       "      <td></td>\n",
       "      <td>20</td>\n",
       "    </tr>\n",
       "  </tbody>\n",
       "</table>\n",
       "</div>"
      ],
      "text/plain": [
       "       Name  Age\n",
       "0    Angela   20\n",
       "1  Precious   21\n",
       "2      Luis   19\n",
       "3       Ade   18\n",
       "4             20"
      ]
     },
     "execution_count": 7,
     "metadata": {},
     "output_type": "execute_result"
    }
   ],
   "source": [
    "import pandas as pd\n",
    " \n",
    "# intialise data of lists.\n",
    "data = {'Name':['Angela', 'Precious', 'Luis', 'Ade',''],\n",
    "        'Age':[20, 21, 19, 18,20]}\n",
    " \n",
    "# Create DataFrame\n",
    "df = pd.DataFrame(data)\n",
    " \n",
    "# Print the output.\n",
    "df"
   ]
  },
  {
   "cell_type": "markdown",
   "metadata": {},
   "source": [
    "### Column Selection:"
   ]
  },
  {
   "cell_type": "code",
   "execution_count": 5,
   "metadata": {},
   "outputs": [
    {
     "data": {
      "application/vnd.microsoft.datawrangler.viewer.v0+json": {
       "columns": [
        {
         "name": "index",
         "rawType": "int64",
         "type": "integer"
        },
        {
         "name": "Name",
         "rawType": "object",
         "type": "string"
        },
        {
         "name": "Qualification",
         "rawType": "object",
         "type": "string"
        }
       ],
       "conversionMethod": "pd.DataFrame",
       "ref": "3f8a8a7c-4695-4fb4-9027-e1bda7f45f7b",
       "rows": [
        [
         "0",
         "Clem",
         "Msc"
        ],
        [
         "1",
         "Prince",
         "MA"
        ],
        [
         "2",
         "Edward",
         "MCA"
        ],
        [
         "3",
         "Adele",
         "Phd"
        ]
       ],
       "shape": {
        "columns": 2,
        "rows": 4
       }
      },
      "text/html": [
       "<div>\n",
       "<style scoped>\n",
       "    .dataframe tbody tr th:only-of-type {\n",
       "        vertical-align: middle;\n",
       "    }\n",
       "\n",
       "    .dataframe tbody tr th {\n",
       "        vertical-align: top;\n",
       "    }\n",
       "\n",
       "    .dataframe thead th {\n",
       "        text-align: right;\n",
       "    }\n",
       "</style>\n",
       "<table border=\"1\" class=\"dataframe\">\n",
       "  <thead>\n",
       "    <tr style=\"text-align: right;\">\n",
       "      <th></th>\n",
       "      <th>Name</th>\n",
       "      <th>Qualification</th>\n",
       "    </tr>\n",
       "  </thead>\n",
       "  <tbody>\n",
       "    <tr>\n",
       "      <th>0</th>\n",
       "      <td>Clem</td>\n",
       "      <td>Msc</td>\n",
       "    </tr>\n",
       "    <tr>\n",
       "      <th>1</th>\n",
       "      <td>Prince</td>\n",
       "      <td>MA</td>\n",
       "    </tr>\n",
       "    <tr>\n",
       "      <th>2</th>\n",
       "      <td>Edward</td>\n",
       "      <td>MCA</td>\n",
       "    </tr>\n",
       "    <tr>\n",
       "      <th>3</th>\n",
       "      <td>Adele</td>\n",
       "      <td>Phd</td>\n",
       "    </tr>\n",
       "  </tbody>\n",
       "</table>\n",
       "</div>"
      ],
      "text/plain": [
       "     Name Qualification\n",
       "0    Clem           Msc\n",
       "1  Prince            MA\n",
       "2  Edward           MCA\n",
       "3   Adele           Phd"
      ]
     },
     "execution_count": 5,
     "metadata": {},
     "output_type": "execute_result"
    }
   ],
   "source": [
    "# Import pandas package\n",
    "import pandas as pd\n",
    " \n",
    "# Define a dictionary containing employee data\n",
    "data = {'Name':['Clem', 'Prince', 'Edward', 'Adele'],\n",
    "        'Age':[27, 24, 22, 32],\n",
    "        'Address':['Abuja', 'Kano', 'Minna', 'Lagos'],\n",
    "        'Qualification':['Msc', 'MA', 'MCA', 'Phd']}\n",
    " \n",
    "# Convert the dictionary into DataFrame \n",
    "df = pd.DataFrame(data)\n",
    " \n",
    "# select two columns\n",
    "df[['Name', 'Qualification']]\n"
   ]
  },
  {
   "cell_type": "code",
   "execution_count": null,
   "metadata": {},
   "outputs": [],
   "source": []
  },
  {
   "cell_type": "markdown",
   "metadata": {},
   "source": [
    "### Row Selection:\n",
    "Pandas provide a unique method to retrieve rows from a Data frame.<br>\n",
    "<i><font color=\"green\">DataFrame.iloc[]</font></i> method is used to retrieve rows from Pandas DataFrame.<br>"
   ]
  },
  {
   "cell_type": "code",
   "execution_count": 8,
   "metadata": {},
   "outputs": [
    {
     "data": {
      "application/vnd.microsoft.datawrangler.viewer.v0+json": {
       "columns": [
        {
         "name": "index",
         "rawType": "object",
         "type": "string"
        },
        {
         "name": "1",
         "rawType": "object",
         "type": "unknown"
        }
       ],
       "ref": "d241d38e-9434-4431-a6ae-e952d870400d",
       "rows": [
        [
         "Name",
         "Mary"
        ],
        [
         "Age",
         "24"
        ],
        [
         "Address",
         "Maiduguri"
        ],
        [
         "Qualification",
         "MA"
        ]
       ],
       "shape": {
        "columns": 1,
        "rows": 4
       }
      },
      "text/plain": [
       "Name                  Mary\n",
       "Age                     24\n",
       "Address          Maiduguri\n",
       "Qualification           MA\n",
       "Name: 1, dtype: object"
      ]
     },
     "execution_count": 8,
     "metadata": {},
     "output_type": "execute_result"
    }
   ],
   "source": [
    "import pandas as pd\n",
    " \n",
    "# Define a dictionary containing employee data\n",
    "data = {'Name':['Oyin', 'Mary', 'David', 'Bola'],\n",
    "        'Age':[27, 24, 22, 32],\n",
    "        'Address':['Asaba', 'Maiduguri', 'Onitsha', 'Kwara'],\n",
    "        'Qualification':['Msc', 'MA', 'MCA', 'Phd']}\n",
    " \n",
    "# Convert the dictionary into DataFrame \n",
    "df = pd.DataFrame(data)\n",
    " \n",
    "# select first row\n",
    "df.iloc[1]"
   ]
  },
  {
   "cell_type": "markdown",
   "metadata": {},
   "source": [
    "### Read from a file:"
   ]
  },
  {
   "cell_type": "code",
   "execution_count": null,
   "metadata": {},
   "outputs": [
    {
     "data": {
      "application/vnd.microsoft.datawrangler.viewer.v0+json": {
       "columns": [
        {
         "name": "index",
         "rawType": "int64",
         "type": "integer"
        },
        {
         "name": "Employee Names",
         "rawType": "object",
         "type": "string"
        },
        {
         "name": "Years",
         "rawType": "int64",
         "type": "integer"
        },
        {
         "name": "Assesment Records",
         "rawType": "float64",
         "type": "float"
        },
        {
         "name": "Points",
         "rawType": "int64",
         "type": "integer"
        },
        {
         "name": "Reward",
         "rawType": "float64",
         "type": "float"
        }
       ],
       "conversionMethod": "pd.DataFrame",
       "ref": "3f85b85f-2a43-485f-b3f7-7bed986e693f",
       "rows": [
        [
         "0",
         "Matthew Ade",
         "25",
         "125.3",
         "21",
         "438.55"
        ],
        [
         "1",
         "Angela Adebisi",
         "15",
         "77.9",
         "14",
         "181.77"
        ],
        [
         "2",
         "Calistus Ndukwe",
         "10",
         "144.2",
         "18",
         "432.6"
        ],
        [
         "3",
         "Martha Martins",
         "9",
         "81.5",
         "25",
         "339.58"
        ],
        [
         "4",
         "Victor Sayola",
         "18",
         "77.8",
         "33",
         "427.9"
        ],
        [
         "5",
         "Adamu Bello",
         "23",
         "99.5",
         "24",
         "398.0"
        ]
       ],
       "shape": {
        "columns": 5,
        "rows": 6
       }
      },
      "text/html": [
       "<div>\n",
       "<style scoped>\n",
       "    .dataframe tbody tr th:only-of-type {\n",
       "        vertical-align: middle;\n",
       "    }\n",
       "\n",
       "    .dataframe tbody tr th {\n",
       "        vertical-align: top;\n",
       "    }\n",
       "\n",
       "    .dataframe thead th {\n",
       "        text-align: right;\n",
       "    }\n",
       "</style>\n",
       "<table border=\"1\" class=\"dataframe\">\n",
       "  <thead>\n",
       "    <tr style=\"text-align: right;\">\n",
       "      <th></th>\n",
       "      <th>Employee Names</th>\n",
       "      <th>Years</th>\n",
       "      <th>Assesment Records</th>\n",
       "      <th>Points</th>\n",
       "      <th>Reward</th>\n",
       "    </tr>\n",
       "  </thead>\n",
       "  <tbody>\n",
       "    <tr>\n",
       "      <th>0</th>\n",
       "      <td>Matthew Ade</td>\n",
       "      <td>25</td>\n",
       "      <td>125.3</td>\n",
       "      <td>21</td>\n",
       "      <td>438.55</td>\n",
       "    </tr>\n",
       "    <tr>\n",
       "      <th>1</th>\n",
       "      <td>Angela Adebisi</td>\n",
       "      <td>15</td>\n",
       "      <td>77.9</td>\n",
       "      <td>14</td>\n",
       "      <td>181.77</td>\n",
       "    </tr>\n",
       "    <tr>\n",
       "      <th>2</th>\n",
       "      <td>Calistus Ndukwe</td>\n",
       "      <td>10</td>\n",
       "      <td>144.2</td>\n",
       "      <td>18</td>\n",
       "      <td>432.60</td>\n",
       "    </tr>\n",
       "    <tr>\n",
       "      <th>3</th>\n",
       "      <td>Martha Martins</td>\n",
       "      <td>9</td>\n",
       "      <td>81.5</td>\n",
       "      <td>25</td>\n",
       "      <td>339.58</td>\n",
       "    </tr>\n",
       "    <tr>\n",
       "      <th>4</th>\n",
       "      <td>Victor Sayola</td>\n",
       "      <td>18</td>\n",
       "      <td>77.8</td>\n",
       "      <td>33</td>\n",
       "      <td>427.90</td>\n",
       "    </tr>\n",
       "    <tr>\n",
       "      <th>5</th>\n",
       "      <td>Adamu Bello</td>\n",
       "      <td>23</td>\n",
       "      <td>99.5</td>\n",
       "      <td>24</td>\n",
       "      <td>398.00</td>\n",
       "    </tr>\n",
       "  </tbody>\n",
       "</table>\n",
       "</div>"
      ],
      "text/plain": [
       "    Employee Names  Years  Assesment Records  Points  Reward\n",
       "0      Matthew Ade     25              125.3      21  438.55\n",
       "1   Angela Adebisi     15               77.9      14  181.77\n",
       "2  Calistus Ndukwe     10              144.2      18  432.60\n",
       "3   Martha Martins      9               81.5      25  339.58\n",
       "4    Victor Sayola     18               77.8      33  427.90\n",
       "5      Adamu Bello     23               99.5      24  398.00"
      ]
     },
     "execution_count": 7,
     "metadata": {},
     "output_type": "execute_result"
    }
   ],
   "source": [
    "# importing pandas package\n",
    "import pandas as pd\n",
    " \n",
    "# making data frame from csv file\n",
    "data = pd.read_csv(\"employee_records.csv\")\n",
    "\n",
    "# print excel\n",
    "data"
   ]
  },
  {
   "cell_type": "code",
   "execution_count": null,
   "metadata": {},
   "outputs": [
    {
     "name": "stdout",
     "output_type": "stream",
     "text": [
      "1 [1 2 3]\n",
      "2 [1 2 3]\n",
      "3 [1 2 3]\n",
      "4 [4 5 6]\n",
      "5 [4 5 6]\n",
      "6 [4 5 6]\n"
     ]
    }
   ],
   "source": [
    "#Iterate on each scalar element of the 2-D array:\n",
    "    \n",
    "import numpy as np\n",
    "\n",
    "arr = np.array([[1, 2, 3], [4, 5, 6]])\n",
    "\n",
    "for x in arr:\n",
    "    for y in x:\n",
    "        print(y,x)"
   ]
  },
  {
   "cell_type": "markdown",
   "metadata": {},
   "source": [
    "### Select first row from file"
   ]
  },
  {
   "cell_type": "code",
   "execution_count": 8,
   "metadata": {},
   "outputs": [
    {
     "data": {
      "text/plain": [
       "Employee Names       Matthew Ade\n",
       "Years                         25\n",
       "Assesment Records          125.3\n",
       "Points                        21\n",
       "Reward                    438.55\n",
       "Name: 0, dtype: object"
      ]
     },
     "execution_count": 8,
     "metadata": {},
     "output_type": "execute_result"
    }
   ],
   "source": [
    "# importing pandas package\n",
    "import pandas as pd\n",
    " \n",
    "# making data frame from csv file\n",
    "data = pd.read_csv(\"employee_records.csv\")\n",
    "\n",
    "df=data.iloc[0]\n",
    "\n",
    "# print excel\n",
    "df"
   ]
  },
  {
   "cell_type": "markdown",
   "metadata": {},
   "source": [
    "### Selecting Row with Title Header"
   ]
  },
  {
   "cell_type": "code",
   "execution_count": 9,
   "metadata": {},
   "outputs": [
    {
     "data": {
      "application/vnd.microsoft.datawrangler.viewer.v0+json": {
       "columns": [
        {
         "name": "index",
         "rawType": "int64",
         "type": "integer"
        },
        {
         "name": "Employee Names",
         "rawType": "object",
         "type": "string"
        },
        {
         "name": "Years",
         "rawType": "int64",
         "type": "integer"
        },
        {
         "name": "Assesment Records",
         "rawType": "float64",
         "type": "float"
        },
        {
         "name": "Points",
         "rawType": "int64",
         "type": "integer"
        },
        {
         "name": "Reward",
         "rawType": "float64",
         "type": "float"
        }
       ],
       "conversionMethod": "pd.DataFrame",
       "ref": "69e3eefc-1e52-4ede-be2f-709cbb833f04",
       "rows": [
        [
         "0",
         "Matthew Ade",
         "25",
         "125.3",
         "21",
         "438.55"
        ]
       ],
       "shape": {
        "columns": 5,
        "rows": 1
       }
      },
      "text/html": [
       "<div>\n",
       "<style scoped>\n",
       "    .dataframe tbody tr th:only-of-type {\n",
       "        vertical-align: middle;\n",
       "    }\n",
       "\n",
       "    .dataframe tbody tr th {\n",
       "        vertical-align: top;\n",
       "    }\n",
       "\n",
       "    .dataframe thead th {\n",
       "        text-align: right;\n",
       "    }\n",
       "</style>\n",
       "<table border=\"1\" class=\"dataframe\">\n",
       "  <thead>\n",
       "    <tr style=\"text-align: right;\">\n",
       "      <th></th>\n",
       "      <th>Employee Names</th>\n",
       "      <th>Years</th>\n",
       "      <th>Assesment Records</th>\n",
       "      <th>Points</th>\n",
       "      <th>Reward</th>\n",
       "    </tr>\n",
       "  </thead>\n",
       "  <tbody>\n",
       "    <tr>\n",
       "      <th>0</th>\n",
       "      <td>Matthew Ade</td>\n",
       "      <td>25</td>\n",
       "      <td>125.3</td>\n",
       "      <td>21</td>\n",
       "      <td>438.55</td>\n",
       "    </tr>\n",
       "  </tbody>\n",
       "</table>\n",
       "</div>"
      ],
      "text/plain": [
       "  Employee Names  Years  Assesment Records  Points  Reward\n",
       "0    Matthew Ade     25              125.3      21  438.55"
      ]
     },
     "execution_count": 9,
     "metadata": {},
     "output_type": "execute_result"
    }
   ],
   "source": [
    "# importing pandas package\n",
    "import pandas as pd\n",
    " \n",
    "# making data frame from csv file\n",
    "data = pd.read_csv(\"employee_records.csv\")\n",
    "\n",
    "df=data.head(1)\n",
    "\n",
    "# print excel\n",
    "df"
   ]
  },
  {
   "cell_type": "markdown",
   "metadata": {},
   "source": [
    "### Looping over rows and columns\n",
    "A loop is a general term for taking each item of something, one after another.<br> Pandas DataFrame consists of rows and columns so, in order to loop over dataframe, we have to iterate a dataframe like a dictionary.<br><br>\n",
    "In order to iterate over rows, we can use two functions <i><font color=\"green\">iteritems(), iterrows() </font></i>. These two functions will help in iteration over rows."
   ]
  },
  {
   "cell_type": "code",
   "execution_count": 10,
   "metadata": {},
   "outputs": [
    {
     "name": "stdout",
     "output_type": "stream",
     "text": [
      "0 name      Abdul\n",
      "degree      MBA\n",
      "score        90\n",
      "Name: 0, dtype: object\n",
      "\n",
      "1 name      Chukwuemeka\n",
      "degree            BCA\n",
      "score              40\n",
      "Name: 1, dtype: object\n",
      "\n",
      "2 name        Seyi\n",
      "degree    M.Tech\n",
      "score         80\n",
      "Name: 2, dtype: object\n",
      "\n",
      "3 name      Matt\n",
      "degree     MBA\n",
      "score       98\n",
      "Name: 3, dtype: object\n",
      "\n"
     ]
    }
   ],
   "source": [
    "# importing pandas as pd\n",
    "import pandas as pd\n",
    "  \n",
    "# dictionary of lists\n",
    "dict = {'name':[\"Abdul\", \"Chukwuemeka\", \"Seyi\", \"Matt\"],\n",
    "        'degree': [\"MBA\", \"BCA\", \"M.Tech\", \"MBA\"],\n",
    "        'score':[90, 40, 80, 98]}\n",
    " \n",
    "# creating a dataframe from a dictionary \n",
    "df = pd.DataFrame(dict)\n",
    "\n",
    "# iterating over rows using iterrows() function \n",
    "for i, j in df.iterrows():\n",
    "    print(i, j)\n",
    "    print()"
   ]
  },
  {
   "cell_type": "markdown",
   "metadata": {},
   "source": [
    "### Looping over Columns :\n",
    "In order to loop over columns, we need to create a list of dataframe columns and then iterating through that list to pull out the dataframe columns."
   ]
  },
  {
   "cell_type": "code",
   "execution_count": 11,
   "metadata": {},
   "outputs": [
    {
     "name": "stdout",
     "output_type": "stream",
     "text": [
      "Ugochi\n",
      "M.Tech\n",
      "80\n"
     ]
    }
   ],
   "source": [
    "# importing pandas as pd\n",
    "import pandas as pd\n",
    "   \n",
    "# dictionary of lists\n",
    "dict = {'name':[\"Bello\", \"Kamara\", \"Ugochi\", \"David\"],\n",
    "        'degree': [\"MBA\", \"BCA\", \"M.Tech\", \"MBA\"],\n",
    "        'score':[90, 40, 80, 98]}\n",
    "  \n",
    "# creating a dataframe from a dictionary \n",
    "df = pd.DataFrame(dict)\n",
    "\n",
    "# creating a list of dataframe columns\n",
    "columns = list(df)\n",
    " \n",
    "for i in columns:\n",
    " \n",
    "    # printing the third element of the column\n",
    "    print (df[i][2])"
   ]
  },
  {
   "cell_type": "markdown",
   "metadata": {},
   "source": [
    "### Saving a DataFrame as CSV file"
   ]
  },
  {
   "cell_type": "code",
   "execution_count": 12,
   "metadata": {},
   "outputs": [],
   "source": [
    "# importing pandas as pd\n",
    "import pandas as pd\n",
    "   \n",
    "# dictionary of lists\n",
    "records = {'name':[\"Abel\", \"Kamsi\", \"Oyode\", \"Chinelo\"],\n",
    "        'degree': [\"MBA\", \"BCA\", \"M.Tech\", \"MBA\"],\n",
    "        'score':[90, 40, 80, 98]}\n",
    "  \n",
    "# creating a dataframe from a dictionary \n",
    "df = pd.DataFrame(records)\n",
    "\n",
    "# saving the dataframe\n",
    "df.to_csv('record.csv')"
   ]
  },
  {
   "cell_type": "markdown",
   "metadata": {},
   "source": [
    "## Class Project I\n"
   ]
  },
  {
   "cell_type": "markdown",
   "metadata": {},
   "source": [
    "####  Go to www.kaggle.com\n",
    "\n",
    "Kaggle allows users to find and publish data sets, explore and build models in a web-based data-science environment, work with other data scientists and machine learning engineers, and enter competitions to solve data science challenges.\n",
    "\n",
    "#### Download the following dataset:\n",
    "1. Top Apps in Google Play\n",
    "2. Cryptocurrency Predict Artificial Intelligence V3\n",
    "3. Programming Languages Trend Over Time\n",
    "\n",
    "#### Clue\n",
    "You can signin with either Google, facebook or Linkedin account\n",
    "\n",
    "#### Task\n",
    "Display the first 7 rows of each dataset<br>\n",
    "Select the first 3 colums of each dataset<br>\n",
    "Display only one row and header of each dataset\n"
   ]
  },
  {
   "cell_type": "code",
   "execution_count": 25,
   "metadata": {},
   "outputs": [
    {
     "data": {
      "application/vnd.microsoft.datawrangler.viewer.v0+json": {
       "columns": [
        {
         "name": "index",
         "rawType": "int64",
         "type": "integer"
        },
        {
         "name": "Week",
         "rawType": "object",
         "type": "string"
        },
        {
         "name": "Python",
         "rawType": "int64",
         "type": "integer"
        },
        {
         "name": "Java",
         "rawType": "int64",
         "type": "integer"
        },
        {
         "name": "C++",
         "rawType": "int64",
         "type": "integer"
        }
       ],
       "conversionMethod": "pd.DataFrame",
       "ref": "8c8c1e5d-4259-470f-8398-8dafe1f102af",
       "rows": [
        [
         "0",
         "4/21/2019",
         "55",
         "55",
         "18"
        ],
        [
         "1",
         "4/28/2019",
         "52",
         "50",
         "16"
        ],
        [
         "2",
         "5/5/2019",
         "56",
         "56",
         "17"
        ],
        [
         "3",
         "5/12/2019",
         "56",
         "61",
         "18"
        ],
        [
         "4",
         "5/19/2019",
         "57",
         "56",
         "17"
        ],
        [
         "5",
         "5/26/2019",
         "55",
         "57",
         "17"
        ],
        [
         "6",
         "6/2/2019",
         "54",
         "58",
         "15"
        ]
       ],
       "shape": {
        "columns": 4,
        "rows": 7
       }
      },
      "text/html": [
       "<div>\n",
       "<style scoped>\n",
       "    .dataframe tbody tr th:only-of-type {\n",
       "        vertical-align: middle;\n",
       "    }\n",
       "\n",
       "    .dataframe tbody tr th {\n",
       "        vertical-align: top;\n",
       "    }\n",
       "\n",
       "    .dataframe thead th {\n",
       "        text-align: right;\n",
       "    }\n",
       "</style>\n",
       "<table border=\"1\" class=\"dataframe\">\n",
       "  <thead>\n",
       "    <tr style=\"text-align: right;\">\n",
       "      <th></th>\n",
       "      <th>Week</th>\n",
       "      <th>Python</th>\n",
       "      <th>Java</th>\n",
       "      <th>C++</th>\n",
       "    </tr>\n",
       "  </thead>\n",
       "  <tbody>\n",
       "    <tr>\n",
       "      <th>0</th>\n",
       "      <td>4/21/2019</td>\n",
       "      <td>55</td>\n",
       "      <td>55</td>\n",
       "      <td>18</td>\n",
       "    </tr>\n",
       "    <tr>\n",
       "      <th>1</th>\n",
       "      <td>4/28/2019</td>\n",
       "      <td>52</td>\n",
       "      <td>50</td>\n",
       "      <td>16</td>\n",
       "    </tr>\n",
       "    <tr>\n",
       "      <th>2</th>\n",
       "      <td>5/5/2019</td>\n",
       "      <td>56</td>\n",
       "      <td>56</td>\n",
       "      <td>17</td>\n",
       "    </tr>\n",
       "    <tr>\n",
       "      <th>3</th>\n",
       "      <td>5/12/2019</td>\n",
       "      <td>56</td>\n",
       "      <td>61</td>\n",
       "      <td>18</td>\n",
       "    </tr>\n",
       "    <tr>\n",
       "      <th>4</th>\n",
       "      <td>5/19/2019</td>\n",
       "      <td>57</td>\n",
       "      <td>56</td>\n",
       "      <td>17</td>\n",
       "    </tr>\n",
       "    <tr>\n",
       "      <th>5</th>\n",
       "      <td>5/26/2019</td>\n",
       "      <td>55</td>\n",
       "      <td>57</td>\n",
       "      <td>17</td>\n",
       "    </tr>\n",
       "    <tr>\n",
       "      <th>6</th>\n",
       "      <td>6/2/2019</td>\n",
       "      <td>54</td>\n",
       "      <td>58</td>\n",
       "      <td>15</td>\n",
       "    </tr>\n",
       "  </tbody>\n",
       "</table>\n",
       "</div>"
      ],
      "text/plain": [
       "        Week  Python  Java  C++\n",
       "0  4/21/2019      55    55   18\n",
       "1  4/28/2019      52    50   16\n",
       "2   5/5/2019      56    56   17\n",
       "3  5/12/2019      56    61   18\n",
       "4  5/19/2019      57    56   17\n",
       "5  5/26/2019      55    57   17\n",
       "6   6/2/2019      54    58   15"
      ]
     },
     "execution_count": 25,
     "metadata": {},
     "output_type": "execute_result"
    }
   ],
   "source": [
    "import pandas as pd\n",
    "data = pd.read_csv(\"programming language trend over time.csv\") \n",
    "df=data.head(7)\n",
    "df"
   ]
  },
  {
   "cell_type": "code",
   "execution_count": 23,
   "metadata": {},
   "outputs": [
    {
     "data": {
      "application/vnd.microsoft.datawrangler.viewer.v0+json": {
       "columns": [
        {
         "name": "index",
         "rawType": "int64",
         "type": "integer"
        },
        {
         "name": "Unnamed: 0",
         "rawType": "int64",
         "type": "integer"
        },
        {
         "name": "App Name",
         "rawType": "object",
         "type": "string"
        },
        {
         "name": "App Id",
         "rawType": "object",
         "type": "string"
        },
        {
         "name": "Category",
         "rawType": "object",
         "type": "string"
        },
        {
         "name": "Developer Id",
         "rawType": "object",
         "type": "string"
        },
        {
         "name": "Developer Website",
         "rawType": "object",
         "type": "string"
        },
        {
         "name": "Developer Email",
         "rawType": "object",
         "type": "string"
        },
        {
         "name": "Content Rating",
         "rawType": "object",
         "type": "string"
        },
        {
         "name": "Ad Supported",
         "rawType": "bool",
         "type": "boolean"
        },
        {
         "name": "In App Purchases",
         "rawType": "bool",
         "type": "boolean"
        }
       ],
       "conversionMethod": "pd.DataFrame",
       "ref": "1980b2ea-997a-4bdb-89a0-efe4c2215ecd",
       "rows": [
        [
         "0",
         "1",
         "Google Play services",
         "com.google.android.gms",
         "Tools",
         "Google LLC",
         "https://developers.google.com/android/google-play-services/",
         "apps-help@google.com",
         "Everyone",
         "False",
         "False"
        ],
        [
         "1",
         "2",
         "YouTube",
         "com.google.android.youtube",
         "Video Players & Editors",
         "Google LLC",
         "https://support.google.com/youtube/topic/2422554?rd=1",
         "ytandroid-support@google.com",
         "Teen",
         "True",
         "False"
        ],
        [
         "2",
         "3",
         "Google",
         "com.google.android.googlequicksearchbox",
         "Tools",
         "Google LLC",
         "https://www.google.com/search/about/",
         "apps-help@google.com",
         "Everyone",
         "True",
         "False"
        ],
        [
         "3",
         "4",
         "Google Maps - Navigate & Explore",
         "com.google.android.apps.maps",
         "Travel & Local",
         "Google LLC",
         "http://maps.google.com/about/",
         "apps-help@google.com",
         "Everyone",
         "True",
         "False"
        ],
        [
         "4",
         "5",
         "Google Text-to-Speech",
         "com.google.android.tts",
         "Tools",
         "Google LLC",
         "http://www.google.com/",
         "tts-feedback@google.com",
         "Everyone",
         "False",
         "False"
        ],
        [
         "5",
         "6",
         "Google Chrome: Fast & Secure",
         "com.android.chrome",
         "Communication",
         "Google LLC",
         "http://www.google.com/chrome/android",
         "apps-help@google.com",
         "Everyone",
         "False",
         "False"
        ],
        [
         "6",
         "7",
         "Gmail",
         "com.google.android.gm",
         "Communication",
         "Google LLC",
         "http://support.google.com/mail/bin/topic.py?hl=en&topic=2451697&parent=2451730&ctx=topic",
         "apps-help@google.com",
         "Everyone",
         "True",
         "False"
        ]
       ],
       "shape": {
        "columns": 10,
        "rows": 7
       }
      },
      "text/html": [
       "<div>\n",
       "<style scoped>\n",
       "    .dataframe tbody tr th:only-of-type {\n",
       "        vertical-align: middle;\n",
       "    }\n",
       "\n",
       "    .dataframe tbody tr th {\n",
       "        vertical-align: top;\n",
       "    }\n",
       "\n",
       "    .dataframe thead th {\n",
       "        text-align: right;\n",
       "    }\n",
       "</style>\n",
       "<table border=\"1\" class=\"dataframe\">\n",
       "  <thead>\n",
       "    <tr style=\"text-align: right;\">\n",
       "      <th></th>\n",
       "      <th>Unnamed: 0</th>\n",
       "      <th>App Name</th>\n",
       "      <th>App Id</th>\n",
       "      <th>Category</th>\n",
       "      <th>Developer Id</th>\n",
       "      <th>Developer Website</th>\n",
       "      <th>Developer Email</th>\n",
       "      <th>Content Rating</th>\n",
       "      <th>Ad Supported</th>\n",
       "      <th>In App Purchases</th>\n",
       "    </tr>\n",
       "  </thead>\n",
       "  <tbody>\n",
       "    <tr>\n",
       "      <th>0</th>\n",
       "      <td>1</td>\n",
       "      <td>Google Play services</td>\n",
       "      <td>com.google.android.gms</td>\n",
       "      <td>Tools</td>\n",
       "      <td>Google LLC</td>\n",
       "      <td>https://developers.google.com/android/google-p...</td>\n",
       "      <td>apps-help@google.com</td>\n",
       "      <td>Everyone</td>\n",
       "      <td>False</td>\n",
       "      <td>False</td>\n",
       "    </tr>\n",
       "    <tr>\n",
       "      <th>1</th>\n",
       "      <td>2</td>\n",
       "      <td>YouTube</td>\n",
       "      <td>com.google.android.youtube</td>\n",
       "      <td>Video Players &amp; Editors</td>\n",
       "      <td>Google LLC</td>\n",
       "      <td>https://support.google.com/youtube/topic/24225...</td>\n",
       "      <td>ytandroid-support@google.com</td>\n",
       "      <td>Teen</td>\n",
       "      <td>True</td>\n",
       "      <td>False</td>\n",
       "    </tr>\n",
       "    <tr>\n",
       "      <th>2</th>\n",
       "      <td>3</td>\n",
       "      <td>Google</td>\n",
       "      <td>com.google.android.googlequicksearchbox</td>\n",
       "      <td>Tools</td>\n",
       "      <td>Google LLC</td>\n",
       "      <td>https://www.google.com/search/about/</td>\n",
       "      <td>apps-help@google.com</td>\n",
       "      <td>Everyone</td>\n",
       "      <td>True</td>\n",
       "      <td>False</td>\n",
       "    </tr>\n",
       "    <tr>\n",
       "      <th>3</th>\n",
       "      <td>4</td>\n",
       "      <td>Google Maps - Navigate &amp; Explore</td>\n",
       "      <td>com.google.android.apps.maps</td>\n",
       "      <td>Travel &amp; Local</td>\n",
       "      <td>Google LLC</td>\n",
       "      <td>http://maps.google.com/about/</td>\n",
       "      <td>apps-help@google.com</td>\n",
       "      <td>Everyone</td>\n",
       "      <td>True</td>\n",
       "      <td>False</td>\n",
       "    </tr>\n",
       "    <tr>\n",
       "      <th>4</th>\n",
       "      <td>5</td>\n",
       "      <td>Google Text-to-Speech</td>\n",
       "      <td>com.google.android.tts</td>\n",
       "      <td>Tools</td>\n",
       "      <td>Google LLC</td>\n",
       "      <td>http://www.google.com/</td>\n",
       "      <td>tts-feedback@google.com</td>\n",
       "      <td>Everyone</td>\n",
       "      <td>False</td>\n",
       "      <td>False</td>\n",
       "    </tr>\n",
       "    <tr>\n",
       "      <th>5</th>\n",
       "      <td>6</td>\n",
       "      <td>Google Chrome: Fast &amp; Secure</td>\n",
       "      <td>com.android.chrome</td>\n",
       "      <td>Communication</td>\n",
       "      <td>Google LLC</td>\n",
       "      <td>http://www.google.com/chrome/android</td>\n",
       "      <td>apps-help@google.com</td>\n",
       "      <td>Everyone</td>\n",
       "      <td>False</td>\n",
       "      <td>False</td>\n",
       "    </tr>\n",
       "    <tr>\n",
       "      <th>6</th>\n",
       "      <td>7</td>\n",
       "      <td>Gmail</td>\n",
       "      <td>com.google.android.gm</td>\n",
       "      <td>Communication</td>\n",
       "      <td>Google LLC</td>\n",
       "      <td>http://support.google.com/mail/bin/topic.py?hl...</td>\n",
       "      <td>apps-help@google.com</td>\n",
       "      <td>Everyone</td>\n",
       "      <td>True</td>\n",
       "      <td>False</td>\n",
       "    </tr>\n",
       "  </tbody>\n",
       "</table>\n",
       "</div>"
      ],
      "text/plain": [
       "   Unnamed: 0                          App Name  \\\n",
       "0           1              Google Play services   \n",
       "1           2                           YouTube   \n",
       "2           3                            Google   \n",
       "3           4  Google Maps - Navigate & Explore   \n",
       "4           5             Google Text-to-Speech   \n",
       "5           6      Google Chrome: Fast & Secure   \n",
       "6           7                             Gmail   \n",
       "\n",
       "                                    App Id                 Category  \\\n",
       "0                   com.google.android.gms                    Tools   \n",
       "1               com.google.android.youtube  Video Players & Editors   \n",
       "2  com.google.android.googlequicksearchbox                    Tools   \n",
       "3             com.google.android.apps.maps           Travel & Local   \n",
       "4                   com.google.android.tts                    Tools   \n",
       "5                       com.android.chrome            Communication   \n",
       "6                    com.google.android.gm            Communication   \n",
       "\n",
       "  Developer Id                                  Developer Website  \\\n",
       "0   Google LLC  https://developers.google.com/android/google-p...   \n",
       "1   Google LLC  https://support.google.com/youtube/topic/24225...   \n",
       "2   Google LLC               https://www.google.com/search/about/   \n",
       "3   Google LLC                      http://maps.google.com/about/   \n",
       "4   Google LLC                             http://www.google.com/   \n",
       "5   Google LLC               http://www.google.com/chrome/android   \n",
       "6   Google LLC  http://support.google.com/mail/bin/topic.py?hl...   \n",
       "\n",
       "                Developer Email Content Rating  Ad Supported  In App Purchases  \n",
       "0          apps-help@google.com       Everyone         False             False  \n",
       "1  ytandroid-support@google.com           Teen          True             False  \n",
       "2          apps-help@google.com       Everyone          True             False  \n",
       "3          apps-help@google.com       Everyone          True             False  \n",
       "4       tts-feedback@google.com       Everyone         False             False  \n",
       "5          apps-help@google.com       Everyone         False             False  \n",
       "6          apps-help@google.com       Everyone          True             False  "
      ]
     },
     "execution_count": 23,
     "metadata": {},
     "output_type": "execute_result"
    }
   ],
   "source": [
    "import pandas as pd\n",
    "data= pd.read_csv(\"Top-Apps-in-Google-Play.csv\") \n",
    "df_1=data.head(7)\n",
    "df_1"
   ]
  },
  {
   "cell_type": "code",
   "execution_count": 26,
   "metadata": {},
   "outputs": [
    {
     "data": {
      "application/vnd.microsoft.datawrangler.viewer.v0+json": {
       "columns": [
        {
         "name": "index",
         "rawType": "int64",
         "type": "integer"
        },
        {
         "name": "Date",
         "rawType": "object",
         "type": "string"
        },
        {
         "name": "Price",
         "rawType": "float64",
         "type": "float"
        },
        {
         "name": "Open",
         "rawType": "float64",
         "type": "float"
        },
        {
         "name": "High",
         "rawType": "float64",
         "type": "float"
        },
        {
         "name": "Low",
         "rawType": "float64",
         "type": "float"
        },
        {
         "name": "Vol.",
         "rawType": "object",
         "type": "string"
        },
        {
         "name": "Change %",
         "rawType": "object",
         "type": "string"
        }
       ],
       "conversionMethod": "pd.DataFrame",
       "ref": "ee27d271-e4dc-40c3-8091-cf18e3920898",
       "rows": [
        [
         "0",
         "25-Mar-22",
         "44331.0",
         "44013.0",
         "45112.0",
         "43622.0",
         "494.09M",
         "0.72%"
        ],
        [
         "1",
         "24-Mar-22",
         "44013.0",
         "42911.0",
         "44251.0",
         "42658.0",
         "491.66M",
         "2.57%"
        ],
        [
         "2",
         "23-Mar-22",
         "42912.0",
         "42373.0",
         "43027.0",
         "41795.0",
         "433.96M",
         "1.27%"
        ],
        [
         "3",
         "22-Mar-22",
         "42373.0",
         "41022.0",
         "43327.9",
         "40893.0",
         "537.06M",
         "3.29%"
        ],
        [
         "4",
         "21-Mar-22",
         "41022.0",
         "41282.0",
         "41532.0",
         "40530.0",
         "406.62M",
         "-0.62%"
        ],
        [
         "5",
         "20-Mar-22",
         "41276.0",
         "42241.0",
         "42301.0",
         "40922.0",
         "308.45M",
         "-2.27%"
        ],
        [
         "6",
         "19-Mar-22",
         "42233.0",
         "41768.0",
         "42386.0",
         "41529.6",
         "224.59M",
         "1.11%"
        ]
       ],
       "shape": {
        "columns": 7,
        "rows": 7
       }
      },
      "text/html": [
       "<div>\n",
       "<style scoped>\n",
       "    .dataframe tbody tr th:only-of-type {\n",
       "        vertical-align: middle;\n",
       "    }\n",
       "\n",
       "    .dataframe tbody tr th {\n",
       "        vertical-align: top;\n",
       "    }\n",
       "\n",
       "    .dataframe thead th {\n",
       "        text-align: right;\n",
       "    }\n",
       "</style>\n",
       "<table border=\"1\" class=\"dataframe\">\n",
       "  <thead>\n",
       "    <tr style=\"text-align: right;\">\n",
       "      <th></th>\n",
       "      <th>Date</th>\n",
       "      <th>Price</th>\n",
       "      <th>Open</th>\n",
       "      <th>High</th>\n",
       "      <th>Low</th>\n",
       "      <th>Vol.</th>\n",
       "      <th>Change %</th>\n",
       "    </tr>\n",
       "  </thead>\n",
       "  <tbody>\n",
       "    <tr>\n",
       "      <th>0</th>\n",
       "      <td>25-Mar-22</td>\n",
       "      <td>44331.0</td>\n",
       "      <td>44013.0</td>\n",
       "      <td>45112.0</td>\n",
       "      <td>43622.0</td>\n",
       "      <td>494.09M</td>\n",
       "      <td>0.72%</td>\n",
       "    </tr>\n",
       "    <tr>\n",
       "      <th>1</th>\n",
       "      <td>24-Mar-22</td>\n",
       "      <td>44013.0</td>\n",
       "      <td>42911.0</td>\n",
       "      <td>44251.0</td>\n",
       "      <td>42658.0</td>\n",
       "      <td>491.66M</td>\n",
       "      <td>2.57%</td>\n",
       "    </tr>\n",
       "    <tr>\n",
       "      <th>2</th>\n",
       "      <td>23-Mar-22</td>\n",
       "      <td>42912.0</td>\n",
       "      <td>42373.0</td>\n",
       "      <td>43027.0</td>\n",
       "      <td>41795.0</td>\n",
       "      <td>433.96M</td>\n",
       "      <td>1.27%</td>\n",
       "    </tr>\n",
       "    <tr>\n",
       "      <th>3</th>\n",
       "      <td>22-Mar-22</td>\n",
       "      <td>42373.0</td>\n",
       "      <td>41022.0</td>\n",
       "      <td>43327.9</td>\n",
       "      <td>40893.0</td>\n",
       "      <td>537.06M</td>\n",
       "      <td>3.29%</td>\n",
       "    </tr>\n",
       "    <tr>\n",
       "      <th>4</th>\n",
       "      <td>21-Mar-22</td>\n",
       "      <td>41022.0</td>\n",
       "      <td>41282.0</td>\n",
       "      <td>41532.0</td>\n",
       "      <td>40530.0</td>\n",
       "      <td>406.62M</td>\n",
       "      <td>-0.62%</td>\n",
       "    </tr>\n",
       "    <tr>\n",
       "      <th>5</th>\n",
       "      <td>20-Mar-22</td>\n",
       "      <td>41276.0</td>\n",
       "      <td>42241.0</td>\n",
       "      <td>42301.0</td>\n",
       "      <td>40922.0</td>\n",
       "      <td>308.45M</td>\n",
       "      <td>-2.27%</td>\n",
       "    </tr>\n",
       "    <tr>\n",
       "      <th>6</th>\n",
       "      <td>19-Mar-22</td>\n",
       "      <td>42233.0</td>\n",
       "      <td>41768.0</td>\n",
       "      <td>42386.0</td>\n",
       "      <td>41529.6</td>\n",
       "      <td>224.59M</td>\n",
       "      <td>1.11%</td>\n",
       "    </tr>\n",
       "  </tbody>\n",
       "</table>\n",
       "</div>"
      ],
      "text/plain": [
       "        Date    Price     Open     High      Low     Vol. Change %\n",
       "0  25-Mar-22  44331.0  44013.0  45112.0  43622.0  494.09M    0.72%\n",
       "1  24-Mar-22  44013.0  42911.0  44251.0  42658.0  491.66M    2.57%\n",
       "2  23-Mar-22  42912.0  42373.0  43027.0  41795.0  433.96M    1.27%\n",
       "3  22-Mar-22  42373.0  41022.0  43327.9  40893.0  537.06M    3.29%\n",
       "4  21-Mar-22  41022.0  41282.0  41532.0  40530.0  406.62M   -0.62%\n",
       "5  20-Mar-22  41276.0  42241.0  42301.0  40922.0  308.45M   -2.27%\n",
       "6  19-Mar-22  42233.0  41768.0  42386.0  41529.6  224.59M    1.11%"
      ]
     },
     "execution_count": 26,
     "metadata": {},
     "output_type": "execute_result"
    }
   ],
   "source": [
    "import pandas as pd\n",
    "data = pd.read_csv(\"BTC_DATA_V3.0.csv\") \n",
    "df=data.head(7)\n",
    "df"
   ]
  },
  {
   "cell_type": "code",
   "execution_count": 28,
   "metadata": {},
   "outputs": [
    {
     "data": {
      "application/vnd.microsoft.datawrangler.viewer.v0+json": {
       "columns": [
        {
         "name": "index",
         "rawType": "int64",
         "type": "integer"
        },
        {
         "name": "Date",
         "rawType": "object",
         "type": "string"
        },
        {
         "name": "Price",
         "rawType": "float64",
         "type": "float"
        },
        {
         "name": "Open",
         "rawType": "float64",
         "type": "float"
        }
       ],
       "conversionMethod": "pd.DataFrame",
       "ref": "bf0083eb-11f2-4df0-bc37-6afea808678a",
       "rows": [
        [
         "0",
         "25-Mar-22",
         "44331.0",
         "44013.0"
        ],
        [
         "1",
         "24-Mar-22",
         "44013.0",
         "42911.0"
        ],
        [
         "2",
         "23-Mar-22",
         "42912.0",
         "42373.0"
        ],
        [
         "3",
         "22-Mar-22",
         "42373.0",
         "41022.0"
        ],
        [
         "4",
         "21-Mar-22",
         "41022.0",
         "41282.0"
        ],
        [
         "5",
         "20-Mar-22",
         "41276.0",
         "42241.0"
        ],
        [
         "6",
         "19-Mar-22",
         "42233.0",
         "41768.0"
        ],
        [
         "7",
         "18-Mar-22",
         "41767.8",
         "40914.6"
        ],
        [
         "8",
         "17-Mar-22",
         "40914.8",
         "41118.7"
        ],
        [
         "9",
         "16-Mar-22",
         "41118.7",
         "39282.5"
        ],
        [
         "10",
         "15-Mar-22",
         "39285.7",
         "39673.0"
        ],
        [
         "11",
         "14-Mar-22",
         "39671.1",
         "37789.5"
        ],
        [
         "12",
         "13-Mar-22",
         "37792.4",
         "38813.2"
        ],
        [
         "13",
         "12-Mar-22",
         "38814.3",
         "38730.2"
        ],
        [
         "14",
         "11-Mar-22",
         "38730.2",
         "39422.5"
        ],
        [
         "15",
         "10-Mar-22",
         "39416.3",
         "41933.9"
        ],
        [
         "16",
         "9-Mar-22",
         "41929.0",
         "38731.5"
        ],
        [
         "17",
         "8-Mar-22",
         "38744.8",
         "38020.6"
        ],
        [
         "18",
         "7-Mar-22",
         "38024.8",
         "38420.6"
        ],
        [
         "19",
         "6-Mar-22",
         "38403.1",
         "39396.3"
        ],
        [
         "20",
         "5-Mar-22",
         "39395.8",
         "39142.8"
        ],
        [
         "21",
         "4-Mar-22",
         "39142.7",
         "42463.0"
        ],
        [
         "22",
         "3-Mar-22",
         "42463.0",
         "43912.8"
        ],
        [
         "23",
         "2-Mar-22",
         "43912.8",
         "44420.3"
        ],
        [
         "24",
         "1-Mar-22",
         "44420.3",
         "43187.2"
        ],
        [
         "25",
         "28-Feb-22",
         "43188.2",
         "37707.2"
        ],
        [
         "26",
         "27-Feb-22",
         "37689.1",
         "39116.6"
        ],
        [
         "27",
         "26-Feb-22",
         "39115.5",
         "39221.6"
        ],
        [
         "28",
         "25-Feb-22",
         "39209.6",
         "38339.2"
        ],
        [
         "29",
         "24-Feb-22",
         "38339.2",
         "37250.2"
        ],
        [
         "30",
         "23-Feb-22",
         "37224.6",
         "38248.2"
        ],
        [
         "31",
         "22-Feb-22",
         "38248.2",
         "37018.3"
        ],
        [
         "32",
         "21-Feb-22",
         "37017.7",
         "38355.0"
        ],
        [
         "33",
         "20-Feb-22",
         "38355.0",
         "40089.6"
        ],
        [
         "34",
         "19-Feb-22",
         "40090.3",
         "40000.1"
        ],
        [
         "35",
         "18-Feb-22",
         "40000.1",
         "40532.5"
        ],
        [
         "36",
         "17-Feb-22",
         "40552.8",
         "43885.5"
        ],
        [
         "37",
         "16-Feb-22",
         "43883.6",
         "44540.9"
        ],
        [
         "38",
         "15-Feb-22",
         "44544.4",
         "42550.3"
        ],
        [
         "39",
         "14-Feb-22",
         "42550.3",
         "42061.1"
        ],
        [
         "40",
         "13-Feb-22",
         "42061.1",
         "42205.5"
        ],
        [
         "41",
         "12-Feb-22",
         "42205.2",
         "42388.4"
        ],
        [
         "42",
         "11-Feb-22",
         "42388.4",
         "43519.3"
        ],
        [
         "43",
         "10-Feb-22",
         "43521.0",
         "44388.9"
        ],
        [
         "44",
         "9-Feb-22",
         "44388.9",
         "44038.2"
        ],
        [
         "45",
         "8-Feb-22",
         "44038.2",
         "43833.9"
        ],
        [
         "46",
         "7-Feb-22",
         "43833.9",
         "42385.2"
        ],
        [
         "47",
         "6-Feb-22",
         "42392.2",
         "41411.9"
        ],
        [
         "48",
         "5-Feb-22",
         "41412.1",
         "41566.5"
        ],
        [
         "49",
         "4-Feb-22",
         "41567.6",
         "37287.8"
        ]
       ],
       "shape": {
        "columns": 3,
        "rows": 1489
       }
      },
      "text/html": [
       "<div>\n",
       "<style scoped>\n",
       "    .dataframe tbody tr th:only-of-type {\n",
       "        vertical-align: middle;\n",
       "    }\n",
       "\n",
       "    .dataframe tbody tr th {\n",
       "        vertical-align: top;\n",
       "    }\n",
       "\n",
       "    .dataframe thead th {\n",
       "        text-align: right;\n",
       "    }\n",
       "</style>\n",
       "<table border=\"1\" class=\"dataframe\">\n",
       "  <thead>\n",
       "    <tr style=\"text-align: right;\">\n",
       "      <th></th>\n",
       "      <th>Date</th>\n",
       "      <th>Price</th>\n",
       "      <th>Open</th>\n",
       "    </tr>\n",
       "  </thead>\n",
       "  <tbody>\n",
       "    <tr>\n",
       "      <th>0</th>\n",
       "      <td>25-Mar-22</td>\n",
       "      <td>44331.0</td>\n",
       "      <td>44013.0</td>\n",
       "    </tr>\n",
       "    <tr>\n",
       "      <th>1</th>\n",
       "      <td>24-Mar-22</td>\n",
       "      <td>44013.0</td>\n",
       "      <td>42911.0</td>\n",
       "    </tr>\n",
       "    <tr>\n",
       "      <th>2</th>\n",
       "      <td>23-Mar-22</td>\n",
       "      <td>42912.0</td>\n",
       "      <td>42373.0</td>\n",
       "    </tr>\n",
       "    <tr>\n",
       "      <th>3</th>\n",
       "      <td>22-Mar-22</td>\n",
       "      <td>42373.0</td>\n",
       "      <td>41022.0</td>\n",
       "    </tr>\n",
       "    <tr>\n",
       "      <th>4</th>\n",
       "      <td>21-Mar-22</td>\n",
       "      <td>41022.0</td>\n",
       "      <td>41282.0</td>\n",
       "    </tr>\n",
       "    <tr>\n",
       "      <th>...</th>\n",
       "      <td>...</td>\n",
       "      <td>...</td>\n",
       "      <td>...</td>\n",
       "    </tr>\n",
       "    <tr>\n",
       "      <th>1484</th>\n",
       "      <td>2-Mar-18</td>\n",
       "      <td>10827.7</td>\n",
       "      <td>10904.5</td>\n",
       "    </tr>\n",
       "    <tr>\n",
       "      <th>1485</th>\n",
       "      <td>1-Mar-18</td>\n",
       "      <td>10904.5</td>\n",
       "      <td>10335.1</td>\n",
       "    </tr>\n",
       "    <tr>\n",
       "      <th>1486</th>\n",
       "      <td>28-Feb-18</td>\n",
       "      <td>10333.9</td>\n",
       "      <td>10584.4</td>\n",
       "    </tr>\n",
       "    <tr>\n",
       "      <th>1487</th>\n",
       "      <td>27-Feb-18</td>\n",
       "      <td>10594.4</td>\n",
       "      <td>10287.8</td>\n",
       "    </tr>\n",
       "    <tr>\n",
       "      <th>1488</th>\n",
       "      <td>26-Feb-18</td>\n",
       "      <td>10285.1</td>\n",
       "      <td>9590.9</td>\n",
       "    </tr>\n",
       "  </tbody>\n",
       "</table>\n",
       "<p>1489 rows × 3 columns</p>\n",
       "</div>"
      ],
      "text/plain": [
       "           Date    Price     Open\n",
       "0     25-Mar-22  44331.0  44013.0\n",
       "1     24-Mar-22  44013.0  42911.0\n",
       "2     23-Mar-22  42912.0  42373.0\n",
       "3     22-Mar-22  42373.0  41022.0\n",
       "4     21-Mar-22  41022.0  41282.0\n",
       "...         ...      ...      ...\n",
       "1484   2-Mar-18  10827.7  10904.5\n",
       "1485   1-Mar-18  10904.5  10335.1\n",
       "1486  28-Feb-18  10333.9  10584.4\n",
       "1487  27-Feb-18  10594.4  10287.8\n",
       "1488  26-Feb-18  10285.1   9590.9\n",
       "\n",
       "[1489 rows x 3 columns]"
      ]
     },
     "execution_count": 28,
     "metadata": {},
     "output_type": "execute_result"
    }
   ],
   "source": [
    "import pandas as pd\n",
    "data = pd.read_csv(\"BTC_DATA_V3.0.csv\") \n",
    "df = pd.DataFrame(data)\n",
    "df[['Date','Price','Open']]"
   ]
  },
  {
   "cell_type": "code",
   "execution_count": 30,
   "metadata": {},
   "outputs": [
    {
     "data": {
      "application/vnd.microsoft.datawrangler.viewer.v0+json": {
       "columns": [
        {
         "name": "index",
         "rawType": "int64",
         "type": "integer"
        },
        {
         "name": "App Name",
         "rawType": "object",
         "type": "string"
        },
        {
         "name": "App Id",
         "rawType": "object",
         "type": "string"
        },
        {
         "name": "Category",
         "rawType": "object",
         "type": "string"
        }
       ],
       "conversionMethod": "pd.DataFrame",
       "ref": "2a741829-bb8e-487f-bb5f-30d41536525a",
       "rows": [
        [
         "0",
         "Google Play services",
         "com.google.android.gms",
         "Tools"
        ],
        [
         "1",
         "YouTube",
         "com.google.android.youtube",
         "Video Players & Editors"
        ],
        [
         "2",
         "Google",
         "com.google.android.googlequicksearchbox",
         "Tools"
        ],
        [
         "3",
         "Google Maps - Navigate & Explore",
         "com.google.android.apps.maps",
         "Travel & Local"
        ],
        [
         "4",
         "Google Text-to-Speech",
         "com.google.android.tts",
         "Tools"
        ],
        [
         "5",
         "Google Chrome: Fast & Secure",
         "com.android.chrome",
         "Communication"
        ],
        [
         "6",
         "Gmail",
         "com.google.android.gm",
         "Communication"
        ],
        [
         "7",
         "Android Accessibility Suite",
         "com.google.android.marvin.talkback",
         "Tools"
        ],
        [
         "8",
         "Google Drive",
         "com.google.android.apps.docs",
         "Productivity"
        ],
        [
         "9",
         "Facebook",
         "com.facebook.katana",
         "Social"
        ],
        [
         "10",
         "WhatsApp Messenger",
         "com.whatsapp",
         "Communication"
        ],
        [
         "11",
         "Google TV (previously Play Movies & TV)",
         "com.google.android.videos",
         "Video Players & Editors"
        ],
        [
         "12",
         "Google Photos",
         "com.google.android.apps.photos",
         "Photography"
        ],
        [
         "13",
         "Messenger – Text and Video Chat for Free",
         "com.facebook.orca",
         "Communication"
        ],
        [
         "14",
         "Hangouts",
         "com.google.android.talk",
         "Communication"
        ],
        [
         "15",
         "Android System WebView",
         "com.google.android.webview",
         "Tools"
        ],
        [
         "16",
         "Google Play Games",
         "com.google.android.play.games",
         "Entertainment"
        ],
        [
         "17",
         "Samsung Push Service",
         "com.sec.spp.push",
         "Communication"
        ],
        [
         "18",
         "Google Duo - High Quality Video Calls",
         "com.google.android.apps.tachyon",
         "Communication"
        ],
        [
         "19",
         "Currents",
         "com.google.android.apps.plus",
         "Social"
        ],
        [
         "20",
         "Gboard - the Google Keyboard",
         "com.google.android.inputmethod.latin",
         "Tools"
        ],
        [
         "21",
         "Instagram",
         "com.instagram.android",
         "Social"
        ],
        [
         "22",
         "Google Play Books - Ebooks, Audiobooks, and Comics",
         "com.google.android.apps.books",
         "Books & Reference"
        ],
        [
         "23",
         "Google News - Top world & local news headlines",
         "com.google.android.apps.magazines",
         "News & Magazines"
        ],
        [
         "24",
         "Google Calendar",
         "com.google.android.calendar",
         "Productivity"
        ],
        [
         "25",
         "Samsung Internet Browser",
         "com.sec.android.app.sbrowser",
         "Communication"
        ],
        [
         "26",
         "Samsung One UI Home",
         "com.sec.android.app.launcher",
         "Personalization"
        ],
        [
         "27",
         "Samsung Gallery",
         "com.sec.android.gallery3d",
         "Photography"
        ],
        [
         "28",
         "Facebook Lite",
         "com.facebook.lite",
         "Social"
        ],
        [
         "29",
         "Samsung My Files",
         "com.sec.android.app.myfiles",
         "Tools"
        ],
        [
         "30",
         "Microsoft OneDrive",
         "com.microsoft.skydrive",
         "Productivity"
        ],
        [
         "31",
         "Android Auto",
         "com.google.android.projection.gearhead",
         "Auto & Vehicles"
        ],
        [
         "32",
         "Messages",
         "com.google.android.apps.messaging",
         "Communication"
        ],
        [
         "33",
         "Carrier Services",
         "com.google.android.ims",
         "Communication"
        ],
        [
         "34",
         "Skype - free IM & video calls",
         "com.skype.raider",
         "Communication"
        ],
        [
         "35",
         "Google Street View",
         "com.google.android.street",
         "Travel & Local"
        ],
        [
         "36",
         "Subway Surfers",
         "com.kiloo.subwaysurf",
         "Arcade"
        ],
        [
         "37",
         "Samsung Experience Service",
         "com.samsung.android.mobileservice",
         "Tools"
        ],
        [
         "38",
         "Device Care",
         "com.samsung.android.lool",
         "Tools"
        ],
        [
         "39",
         "SHAREit - Transfer & Share",
         "com.lenovo.anyshare.gps",
         "Tools"
        ],
        [
         "40",
         "Microsoft Word: Write, Edit & Share Docs on the Go",
         "com.microsoft.office.word",
         "Productivity"
        ],
        [
         "41",
         "TikTok",
         "com.zhiliaoapp.musically",
         "Social"
        ],
        [
         "42",
         "Snapchat",
         "com.snapchat.android",
         "Social"
        ],
        [
         "43",
         "Samsung Email",
         "com.samsung.android.email.provider",
         "Productivity"
        ],
        [
         "44",
         "Samsung Calculator",
         "com.sec.android.app.popupcalculator",
         "Tools"
        ],
        [
         "45",
         "Microsoft Excel: View, Edit, & Create Spreadsheets",
         "com.microsoft.office.excel",
         "Productivity"
        ],
        [
         "46",
         "ANT+ Plugins Service",
         "com.dsi.ant.plugins.antplus",
         "Tools"
        ],
        [
         "47",
         "Microsoft PowerPoint: Slideshows and Presentations",
         "com.microsoft.office.powerpoint",
         "Productivity"
        ],
        [
         "48",
         "ANT Radio Service",
         "com.dsi.ant.service.socket",
         "Communication"
        ],
        [
         "49",
         "Samsung Voice Recorder",
         "com.sec.android.app.voicenote",
         "Tools"
        ]
       ],
       "shape": {
        "columns": 3,
        "rows": 70
       }
      },
      "text/html": [
       "<div>\n",
       "<style scoped>\n",
       "    .dataframe tbody tr th:only-of-type {\n",
       "        vertical-align: middle;\n",
       "    }\n",
       "\n",
       "    .dataframe tbody tr th {\n",
       "        vertical-align: top;\n",
       "    }\n",
       "\n",
       "    .dataframe thead th {\n",
       "        text-align: right;\n",
       "    }\n",
       "</style>\n",
       "<table border=\"1\" class=\"dataframe\">\n",
       "  <thead>\n",
       "    <tr style=\"text-align: right;\">\n",
       "      <th></th>\n",
       "      <th>App Name</th>\n",
       "      <th>App Id</th>\n",
       "      <th>Category</th>\n",
       "    </tr>\n",
       "  </thead>\n",
       "  <tbody>\n",
       "    <tr>\n",
       "      <th>0</th>\n",
       "      <td>Google Play services</td>\n",
       "      <td>com.google.android.gms</td>\n",
       "      <td>Tools</td>\n",
       "    </tr>\n",
       "    <tr>\n",
       "      <th>1</th>\n",
       "      <td>YouTube</td>\n",
       "      <td>com.google.android.youtube</td>\n",
       "      <td>Video Players &amp; Editors</td>\n",
       "    </tr>\n",
       "    <tr>\n",
       "      <th>2</th>\n",
       "      <td>Google</td>\n",
       "      <td>com.google.android.googlequicksearchbox</td>\n",
       "      <td>Tools</td>\n",
       "    </tr>\n",
       "    <tr>\n",
       "      <th>3</th>\n",
       "      <td>Google Maps - Navigate &amp; Explore</td>\n",
       "      <td>com.google.android.apps.maps</td>\n",
       "      <td>Travel &amp; Local</td>\n",
       "    </tr>\n",
       "    <tr>\n",
       "      <th>4</th>\n",
       "      <td>Google Text-to-Speech</td>\n",
       "      <td>com.google.android.tts</td>\n",
       "      <td>Tools</td>\n",
       "    </tr>\n",
       "    <tr>\n",
       "      <th>...</th>\n",
       "      <td>...</td>\n",
       "      <td>...</td>\n",
       "      <td>...</td>\n",
       "    </tr>\n",
       "    <tr>\n",
       "      <th>65</th>\n",
       "      <td>Clock</td>\n",
       "      <td>com.google.android.deskclock</td>\n",
       "      <td>Tools</td>\n",
       "    </tr>\n",
       "    <tr>\n",
       "      <th>66</th>\n",
       "      <td>Spotify: Listen to podcasts &amp; find music you love</td>\n",
       "      <td>com.spotify.music</td>\n",
       "      <td>Music &amp; Audio</td>\n",
       "    </tr>\n",
       "    <tr>\n",
       "      <th>67</th>\n",
       "      <td>Google Translate</td>\n",
       "      <td>com.google.android.apps.translate</td>\n",
       "      <td>Tools</td>\n",
       "    </tr>\n",
       "    <tr>\n",
       "      <th>68</th>\n",
       "      <td>Samsung Notes</td>\n",
       "      <td>com.samsung.android.app.notes</td>\n",
       "      <td>Productivity</td>\n",
       "    </tr>\n",
       "    <tr>\n",
       "      <th>69</th>\n",
       "      <td>Calculator</td>\n",
       "      <td>com.google.android.calculator</td>\n",
       "      <td>Tools</td>\n",
       "    </tr>\n",
       "  </tbody>\n",
       "</table>\n",
       "<p>70 rows × 3 columns</p>\n",
       "</div>"
      ],
      "text/plain": [
       "                                             App Name  \\\n",
       "0                                Google Play services   \n",
       "1                                             YouTube   \n",
       "2                                              Google   \n",
       "3                    Google Maps - Navigate & Explore   \n",
       "4                               Google Text-to-Speech   \n",
       "..                                                ...   \n",
       "65                                              Clock   \n",
       "66  Spotify: Listen to podcasts & find music you love   \n",
       "67                                   Google Translate   \n",
       "68                                      Samsung Notes   \n",
       "69                                         Calculator   \n",
       "\n",
       "                                     App Id                 Category  \n",
       "0                    com.google.android.gms                    Tools  \n",
       "1                com.google.android.youtube  Video Players & Editors  \n",
       "2   com.google.android.googlequicksearchbox                    Tools  \n",
       "3              com.google.android.apps.maps           Travel & Local  \n",
       "4                    com.google.android.tts                    Tools  \n",
       "..                                      ...                      ...  \n",
       "65             com.google.android.deskclock                    Tools  \n",
       "66                        com.spotify.music            Music & Audio  \n",
       "67        com.google.android.apps.translate                    Tools  \n",
       "68            com.samsung.android.app.notes             Productivity  \n",
       "69            com.google.android.calculator                    Tools  \n",
       "\n",
       "[70 rows x 3 columns]"
      ]
     },
     "execution_count": 30,
     "metadata": {},
     "output_type": "execute_result"
    }
   ],
   "source": [
    "import pandas as pd\n",
    "data = pd.read_csv(\"Top-Apps-in-Google-Play.csv\") \n",
    "df = pd.DataFrame(data)\n",
    "df[['App Name','App Id','Category']]"
   ]
  },
  {
   "cell_type": "code",
   "execution_count": 32,
   "metadata": {},
   "outputs": [
    {
     "data": {
      "application/vnd.microsoft.datawrangler.viewer.v0+json": {
       "columns": [
        {
         "name": "index",
         "rawType": "int64",
         "type": "integer"
        },
        {
         "name": "Week",
         "rawType": "object",
         "type": "string"
        },
        {
         "name": "Python",
         "rawType": "int64",
         "type": "integer"
        },
        {
         "name": "Java",
         "rawType": "int64",
         "type": "integer"
        }
       ],
       "conversionMethod": "pd.DataFrame",
       "ref": "917c0caf-3480-4f84-b3f1-ceba2502e0cd",
       "rows": [
        [
         "0",
         "4/21/2019",
         "55",
         "55"
        ],
        [
         "1",
         "4/28/2019",
         "52",
         "50"
        ],
        [
         "2",
         "5/5/2019",
         "56",
         "56"
        ],
        [
         "3",
         "5/12/2019",
         "56",
         "61"
        ],
        [
         "4",
         "5/19/2019",
         "57",
         "56"
        ],
        [
         "5",
         "5/26/2019",
         "55",
         "57"
        ],
        [
         "6",
         "6/2/2019",
         "54",
         "58"
        ],
        [
         "7",
         "6/9/2019",
         "58",
         "55"
        ],
        [
         "8",
         "6/16/2019",
         "58",
         "56"
        ],
        [
         "9",
         "6/23/2019",
         "60",
         "57"
        ],
        [
         "10",
         "6/30/2019",
         "57",
         "54"
        ],
        [
         "11",
         "7/7/2019",
         "60",
         "58"
        ],
        [
         "12",
         "7/14/2019",
         "60",
         "57"
        ],
        [
         "13",
         "7/21/2019",
         "56",
         "55"
        ],
        [
         "14",
         "7/28/2019",
         "59",
         "53"
        ],
        [
         "15",
         "8/4/2019",
         "57",
         "54"
        ],
        [
         "16",
         "8/11/2019",
         "54",
         "51"
        ],
        [
         "17",
         "8/18/2019",
         "61",
         "58"
        ],
        [
         "18",
         "8/25/2019",
         "59",
         "60"
        ],
        [
         "19",
         "9/1/2019",
         "62",
         "57"
        ],
        [
         "20",
         "9/8/2019",
         "64",
         "58"
        ],
        [
         "21",
         "9/15/2019",
         "67",
         "64"
        ],
        [
         "22",
         "9/22/2019",
         "65",
         "61"
        ],
        [
         "23",
         "9/29/2019",
         "67",
         "55"
        ],
        [
         "24",
         "10/6/2019",
         "64",
         "58"
        ],
        [
         "25",
         "10/13/2019",
         "68",
         "60"
        ],
        [
         "26",
         "10/20/2019",
         "63",
         "58"
        ],
        [
         "27",
         "10/27/2019",
         "61",
         "54"
        ],
        [
         "28",
         "11/3/2019",
         "64",
         "58"
        ],
        [
         "29",
         "11/10/2019",
         "66",
         "57"
        ],
        [
         "30",
         "11/17/2019",
         "69",
         "60"
        ],
        [
         "31",
         "11/24/2019",
         "65",
         "55"
        ],
        [
         "32",
         "12/1/2019",
         "63",
         "59"
        ],
        [
         "33",
         "12/8/2019",
         "60",
         "53"
        ],
        [
         "34",
         "12/15/2019",
         "60",
         "51"
        ],
        [
         "35",
         "12/22/2019",
         "42",
         "39"
        ],
        [
         "36",
         "12/29/2019",
         "41",
         "37"
        ],
        [
         "37",
         "1/5/2020",
         "57",
         "50"
        ],
        [
         "38",
         "1/12/2020",
         "59",
         "53"
        ],
        [
         "39",
         "1/19/2020",
         "60",
         "53"
        ],
        [
         "40",
         "1/26/2020",
         "63",
         "56"
        ],
        [
         "41",
         "2/2/2020",
         "62",
         "55"
        ],
        [
         "42",
         "2/9/2020",
         "68",
         "55"
        ],
        [
         "43",
         "2/16/2020",
         "71",
         "59"
        ],
        [
         "44",
         "2/23/2020",
         "68",
         "57"
        ],
        [
         "45",
         "3/1/2020",
         "67",
         "58"
        ],
        [
         "46",
         "3/8/2020",
         "62",
         "52"
        ],
        [
         "47",
         "3/15/2020",
         "59",
         "48"
        ],
        [
         "48",
         "3/22/2020",
         "60",
         "47"
        ],
        [
         "49",
         "3/29/2020",
         "64",
         "49"
        ]
       ],
       "shape": {
        "columns": 3,
        "rows": 262
       }
      },
      "text/html": [
       "<div>\n",
       "<style scoped>\n",
       "    .dataframe tbody tr th:only-of-type {\n",
       "        vertical-align: middle;\n",
       "    }\n",
       "\n",
       "    .dataframe tbody tr th {\n",
       "        vertical-align: top;\n",
       "    }\n",
       "\n",
       "    .dataframe thead th {\n",
       "        text-align: right;\n",
       "    }\n",
       "</style>\n",
       "<table border=\"1\" class=\"dataframe\">\n",
       "  <thead>\n",
       "    <tr style=\"text-align: right;\">\n",
       "      <th></th>\n",
       "      <th>Week</th>\n",
       "      <th>Python</th>\n",
       "      <th>Java</th>\n",
       "    </tr>\n",
       "  </thead>\n",
       "  <tbody>\n",
       "    <tr>\n",
       "      <th>0</th>\n",
       "      <td>4/21/2019</td>\n",
       "      <td>55</td>\n",
       "      <td>55</td>\n",
       "    </tr>\n",
       "    <tr>\n",
       "      <th>1</th>\n",
       "      <td>4/28/2019</td>\n",
       "      <td>52</td>\n",
       "      <td>50</td>\n",
       "    </tr>\n",
       "    <tr>\n",
       "      <th>2</th>\n",
       "      <td>5/5/2019</td>\n",
       "      <td>56</td>\n",
       "      <td>56</td>\n",
       "    </tr>\n",
       "    <tr>\n",
       "      <th>3</th>\n",
       "      <td>5/12/2019</td>\n",
       "      <td>56</td>\n",
       "      <td>61</td>\n",
       "    </tr>\n",
       "    <tr>\n",
       "      <th>4</th>\n",
       "      <td>5/19/2019</td>\n",
       "      <td>57</td>\n",
       "      <td>56</td>\n",
       "    </tr>\n",
       "    <tr>\n",
       "      <th>...</th>\n",
       "      <td>...</td>\n",
       "      <td>...</td>\n",
       "      <td>...</td>\n",
       "    </tr>\n",
       "    <tr>\n",
       "      <th>257</th>\n",
       "      <td>3/24/2024</td>\n",
       "      <td>79</td>\n",
       "      <td>47</td>\n",
       "    </tr>\n",
       "    <tr>\n",
       "      <th>258</th>\n",
       "      <td>3/31/2024</td>\n",
       "      <td>81</td>\n",
       "      <td>51</td>\n",
       "    </tr>\n",
       "    <tr>\n",
       "      <th>259</th>\n",
       "      <td>4/7/2024</td>\n",
       "      <td>77</td>\n",
       "      <td>45</td>\n",
       "    </tr>\n",
       "    <tr>\n",
       "      <th>260</th>\n",
       "      <td>4/14/2024</td>\n",
       "      <td>78</td>\n",
       "      <td>48</td>\n",
       "    </tr>\n",
       "    <tr>\n",
       "      <th>261</th>\n",
       "      <td>4/21/2024</td>\n",
       "      <td>71</td>\n",
       "      <td>42</td>\n",
       "    </tr>\n",
       "  </tbody>\n",
       "</table>\n",
       "<p>262 rows × 3 columns</p>\n",
       "</div>"
      ],
      "text/plain": [
       "          Week  Python  Java\n",
       "0    4/21/2019      55    55\n",
       "1    4/28/2019      52    50\n",
       "2     5/5/2019      56    56\n",
       "3    5/12/2019      56    61\n",
       "4    5/19/2019      57    56\n",
       "..         ...     ...   ...\n",
       "257  3/24/2024      79    47\n",
       "258  3/31/2024      81    51\n",
       "259   4/7/2024      77    45\n",
       "260  4/14/2024      78    48\n",
       "261  4/21/2024      71    42\n",
       "\n",
       "[262 rows x 3 columns]"
      ]
     },
     "execution_count": 32,
     "metadata": {},
     "output_type": "execute_result"
    }
   ],
   "source": [
    "import pandas as pd\n",
    "data = pd.read_csv(\"programming language trend over time.csv\") \n",
    "df = pd.DataFrame(data)\n",
    "df[['Week','Python','Java']]"
   ]
  },
  {
   "cell_type": "code",
   "execution_count": 34,
   "metadata": {},
   "outputs": [
    {
     "data": {
      "application/vnd.microsoft.datawrangler.viewer.v0+json": {
       "columns": [
        {
         "name": "index",
         "rawType": "int64",
         "type": "integer"
        },
        {
         "name": "Week",
         "rawType": "object",
         "type": "string"
        },
        {
         "name": "Python",
         "rawType": "int64",
         "type": "integer"
        },
        {
         "name": "Java",
         "rawType": "int64",
         "type": "integer"
        },
        {
         "name": "C++",
         "rawType": "int64",
         "type": "integer"
        }
       ],
       "conversionMethod": "pd.DataFrame",
       "ref": "017a678a-988b-49b1-8737-450ac6a50a2a",
       "rows": [
        [
         "0",
         "4/21/2019",
         "55",
         "55",
         "18"
        ]
       ],
       "shape": {
        "columns": 4,
        "rows": 1
       }
      },
      "text/html": [
       "<div>\n",
       "<style scoped>\n",
       "    .dataframe tbody tr th:only-of-type {\n",
       "        vertical-align: middle;\n",
       "    }\n",
       "\n",
       "    .dataframe tbody tr th {\n",
       "        vertical-align: top;\n",
       "    }\n",
       "\n",
       "    .dataframe thead th {\n",
       "        text-align: right;\n",
       "    }\n",
       "</style>\n",
       "<table border=\"1\" class=\"dataframe\">\n",
       "  <thead>\n",
       "    <tr style=\"text-align: right;\">\n",
       "      <th></th>\n",
       "      <th>Week</th>\n",
       "      <th>Python</th>\n",
       "      <th>Java</th>\n",
       "      <th>C++</th>\n",
       "    </tr>\n",
       "  </thead>\n",
       "  <tbody>\n",
       "    <tr>\n",
       "      <th>0</th>\n",
       "      <td>4/21/2019</td>\n",
       "      <td>55</td>\n",
       "      <td>55</td>\n",
       "      <td>18</td>\n",
       "    </tr>\n",
       "  </tbody>\n",
       "</table>\n",
       "</div>"
      ],
      "text/plain": [
       "        Week  Python  Java  C++\n",
       "0  4/21/2019      55    55   18"
      ]
     },
     "execution_count": 34,
     "metadata": {},
     "output_type": "execute_result"
    }
   ],
   "source": [
    "import pandas as pd\n",
    "data = pd.read_csv(\"programming language trend over time.csv\")\n",
    "df=data.head(1)\n",
    "df"
   ]
  },
  {
   "cell_type": "code",
   "execution_count": 36,
   "metadata": {},
   "outputs": [
    {
     "data": {
      "application/vnd.microsoft.datawrangler.viewer.v0+json": {
       "columns": [
        {
         "name": "index",
         "rawType": "int64",
         "type": "integer"
        },
        {
         "name": "Unnamed: 0",
         "rawType": "int64",
         "type": "integer"
        },
        {
         "name": "App Name",
         "rawType": "object",
         "type": "string"
        },
        {
         "name": "App Id",
         "rawType": "object",
         "type": "string"
        },
        {
         "name": "Category",
         "rawType": "object",
         "type": "string"
        },
        {
         "name": "Developer Id",
         "rawType": "object",
         "type": "string"
        },
        {
         "name": "Developer Website",
         "rawType": "object",
         "type": "string"
        },
        {
         "name": "Developer Email",
         "rawType": "object",
         "type": "string"
        },
        {
         "name": "Content Rating",
         "rawType": "object",
         "type": "string"
        },
        {
         "name": "Ad Supported",
         "rawType": "bool",
         "type": "boolean"
        },
        {
         "name": "In App Purchases",
         "rawType": "bool",
         "type": "boolean"
        }
       ],
       "conversionMethod": "pd.DataFrame",
       "ref": "b8225b01-aa7e-431b-b529-8a3c0c82036e",
       "rows": [
        [
         "0",
         "1",
         "Google Play services",
         "com.google.android.gms",
         "Tools",
         "Google LLC",
         "https://developers.google.com/android/google-play-services/",
         "apps-help@google.com",
         "Everyone",
         "False",
         "False"
        ]
       ],
       "shape": {
        "columns": 10,
        "rows": 1
       }
      },
      "text/html": [
       "<div>\n",
       "<style scoped>\n",
       "    .dataframe tbody tr th:only-of-type {\n",
       "        vertical-align: middle;\n",
       "    }\n",
       "\n",
       "    .dataframe tbody tr th {\n",
       "        vertical-align: top;\n",
       "    }\n",
       "\n",
       "    .dataframe thead th {\n",
       "        text-align: right;\n",
       "    }\n",
       "</style>\n",
       "<table border=\"1\" class=\"dataframe\">\n",
       "  <thead>\n",
       "    <tr style=\"text-align: right;\">\n",
       "      <th></th>\n",
       "      <th>Unnamed: 0</th>\n",
       "      <th>App Name</th>\n",
       "      <th>App Id</th>\n",
       "      <th>Category</th>\n",
       "      <th>Developer Id</th>\n",
       "      <th>Developer Website</th>\n",
       "      <th>Developer Email</th>\n",
       "      <th>Content Rating</th>\n",
       "      <th>Ad Supported</th>\n",
       "      <th>In App Purchases</th>\n",
       "    </tr>\n",
       "  </thead>\n",
       "  <tbody>\n",
       "    <tr>\n",
       "      <th>0</th>\n",
       "      <td>1</td>\n",
       "      <td>Google Play services</td>\n",
       "      <td>com.google.android.gms</td>\n",
       "      <td>Tools</td>\n",
       "      <td>Google LLC</td>\n",
       "      <td>https://developers.google.com/android/google-p...</td>\n",
       "      <td>apps-help@google.com</td>\n",
       "      <td>Everyone</td>\n",
       "      <td>False</td>\n",
       "      <td>False</td>\n",
       "    </tr>\n",
       "  </tbody>\n",
       "</table>\n",
       "</div>"
      ],
      "text/plain": [
       "   Unnamed: 0              App Name                  App Id Category  \\\n",
       "0           1  Google Play services  com.google.android.gms    Tools   \n",
       "\n",
       "  Developer Id                                  Developer Website  \\\n",
       "0   Google LLC  https://developers.google.com/android/google-p...   \n",
       "\n",
       "        Developer Email Content Rating  Ad Supported  In App Purchases  \n",
       "0  apps-help@google.com       Everyone         False             False  "
      ]
     },
     "execution_count": 36,
     "metadata": {},
     "output_type": "execute_result"
    }
   ],
   "source": [
    "import pandas as pd\n",
    "data = pd.read_csv(\"Top-Apps-in-Google-Play.csv\")\n",
    "df=data.head(1)\n",
    "df"
   ]
  },
  {
   "cell_type": "code",
   "execution_count": 35,
   "metadata": {},
   "outputs": [
    {
     "data": {
      "application/vnd.microsoft.datawrangler.viewer.v0+json": {
       "columns": [
        {
         "name": "index",
         "rawType": "int64",
         "type": "integer"
        },
        {
         "name": "Date",
         "rawType": "object",
         "type": "string"
        },
        {
         "name": "Price",
         "rawType": "float64",
         "type": "float"
        },
        {
         "name": "Open",
         "rawType": "float64",
         "type": "float"
        },
        {
         "name": "High",
         "rawType": "float64",
         "type": "float"
        },
        {
         "name": "Low",
         "rawType": "float64",
         "type": "float"
        },
        {
         "name": "Vol.",
         "rawType": "object",
         "type": "string"
        },
        {
         "name": "Change %",
         "rawType": "object",
         "type": "string"
        }
       ],
       "conversionMethod": "pd.DataFrame",
       "ref": "df4b998a-5b68-4d32-b664-6a38eef0d450",
       "rows": [
        [
         "0",
         "25-Mar-22",
         "44331.0",
         "44013.0",
         "45112.0",
         "43622.0",
         "494.09M",
         "0.72%"
        ]
       ],
       "shape": {
        "columns": 7,
        "rows": 1
       }
      },
      "text/html": [
       "<div>\n",
       "<style scoped>\n",
       "    .dataframe tbody tr th:only-of-type {\n",
       "        vertical-align: middle;\n",
       "    }\n",
       "\n",
       "    .dataframe tbody tr th {\n",
       "        vertical-align: top;\n",
       "    }\n",
       "\n",
       "    .dataframe thead th {\n",
       "        text-align: right;\n",
       "    }\n",
       "</style>\n",
       "<table border=\"1\" class=\"dataframe\">\n",
       "  <thead>\n",
       "    <tr style=\"text-align: right;\">\n",
       "      <th></th>\n",
       "      <th>Date</th>\n",
       "      <th>Price</th>\n",
       "      <th>Open</th>\n",
       "      <th>High</th>\n",
       "      <th>Low</th>\n",
       "      <th>Vol.</th>\n",
       "      <th>Change %</th>\n",
       "    </tr>\n",
       "  </thead>\n",
       "  <tbody>\n",
       "    <tr>\n",
       "      <th>0</th>\n",
       "      <td>25-Mar-22</td>\n",
       "      <td>44331.0</td>\n",
       "      <td>44013.0</td>\n",
       "      <td>45112.0</td>\n",
       "      <td>43622.0</td>\n",
       "      <td>494.09M</td>\n",
       "      <td>0.72%</td>\n",
       "    </tr>\n",
       "  </tbody>\n",
       "</table>\n",
       "</div>"
      ],
      "text/plain": [
       "        Date    Price     Open     High      Low     Vol. Change %\n",
       "0  25-Mar-22  44331.0  44013.0  45112.0  43622.0  494.09M    0.72%"
      ]
     },
     "execution_count": 35,
     "metadata": {},
     "output_type": "execute_result"
    }
   ],
   "source": [
    "import pandas as pd\n",
    "data = pd.read_csv(\"BTC_DATA_V3.0.csv\")\n",
    "df=data.head(1)\n",
    "df"
   ]
  },
  {
   "cell_type": "markdown",
   "metadata": {},
   "source": [
    "## Class Project II\n",
    "import pandas as pd\n"
   ]
  },
  {
   "cell_type": "markdown",
   "metadata": {},
   "source": [
    "<b>Cadbury Nigeria Plc</b> manufactures and sells branded fast moving consumer goods to the Nigerian market and exports in West Africa. The Company produces intermediate products, such as cocoa butter, liquor, cake and powder. It exports cocoa butter, cake and liquor to international customers, and cocoa powder locally. It operates through three segments: Refreshment Beverages, Confectionery and Intermediate Cocoa Products. The Refreshment Beverages segment includes the manufacture and sale of Bournvita and Hot Chocolate. The Confectionery segment includes the manufacture and sale of Tom Tom and Buttermint. The Intermediate Cocoa Products segment includes the manufacture and sale of cocoa powder, cocoa butter, cocoa liquor and cocoa cake. The Refreshment Beverages' brands include CADBURY BOURNVITA and CADBURY 3-in-1 HOT CHOCOLATE. The Confectionery's brands include TOMTOM CLASSIC, TOMTOM STRAWBERRY and BUTTERMINT. The Intermediate Cocoa Products' brands include COCOA POWDER and COCOA BUTTER.\n",
    "\n",
    "You have been employed as an expert python developer to create a program to document the consumption categories of their products and brands. Using your knowledge of Pandas DataFrames develop the program that saves the list of products (export, segments and brands) in a .csv excel file.<br><br>\n",
    "Hint: save the filename as <font color=\"green\"><i>cadbury_market.csv</i></font>."
   ]
  },
  {
   "cell_type": "code",
   "execution_count": 10,
   "metadata": {},
   "outputs": [
    {
     "data": {
      "application/vnd.microsoft.datawrangler.viewer.v0+json": {
       "columns": [
        {
         "name": "index",
         "rawType": "int64",
         "type": "integer"
        },
        {
         "name": "Export",
         "rawType": "object",
         "type": "string"
        },
        {
         "name": "Segment",
         "rawType": "object",
         "type": "string"
        },
        {
         "name": "Brands",
         "rawType": "object",
         "type": "string"
        }
       ],
       "ref": "1dcaa4fb-341d-4537-ab56-18e1daf37611",
       "rows": [
        [
         "0",
         " Bournvita",
         "Refreshment Beverages",
         "CADBURY BOURNVITA"
        ],
        [
         "1",
         "Hot Chocolate",
         "Refreshment Beverages",
         "CADBURY 3-in-1 HOT CHOCOLATE"
        ],
        [
         "2",
         "Tom Tom",
         "Confectionery",
         "TOMTOM CLASSIC, TOMTOM STRAWBERRY"
        ],
        [
         "3",
         "Buttermint",
         "Confectionery",
         "BUTTERMINT"
        ],
        [
         "4",
         "Cocoa powder",
         "Intermediate Cocoa Products",
         "COCOA POWDER"
        ],
        [
         "5",
         "Cocoa butter",
         "Intermediate Cocoa Products",
         "COCOA BUTTER"
        ],
        [
         "6",
         "Cocoa liquor",
         "Intermediate Cocoa Products",
         "COCOA POWDER"
        ],
        [
         "7",
         "Cocoa cake",
         "Intermediate Cocoa Products",
         "COCOA POWDER"
        ]
       ],
       "shape": {
        "columns": 3,
        "rows": 8
       }
      },
      "text/html": [
       "<div>\n",
       "<style scoped>\n",
       "    .dataframe tbody tr th:only-of-type {\n",
       "        vertical-align: middle;\n",
       "    }\n",
       "\n",
       "    .dataframe tbody tr th {\n",
       "        vertical-align: top;\n",
       "    }\n",
       "\n",
       "    .dataframe thead th {\n",
       "        text-align: right;\n",
       "    }\n",
       "</style>\n",
       "<table border=\"1\" class=\"dataframe\">\n",
       "  <thead>\n",
       "    <tr style=\"text-align: right;\">\n",
       "      <th></th>\n",
       "      <th>Export</th>\n",
       "      <th>Segment</th>\n",
       "      <th>Brands</th>\n",
       "    </tr>\n",
       "  </thead>\n",
       "  <tbody>\n",
       "    <tr>\n",
       "      <th>0</th>\n",
       "      <td>Bournvita</td>\n",
       "      <td>Refreshment Beverages</td>\n",
       "      <td>CADBURY BOURNVITA</td>\n",
       "    </tr>\n",
       "    <tr>\n",
       "      <th>1</th>\n",
       "      <td>Hot Chocolate</td>\n",
       "      <td>Refreshment Beverages</td>\n",
       "      <td>CADBURY 3-in-1 HOT CHOCOLATE</td>\n",
       "    </tr>\n",
       "    <tr>\n",
       "      <th>2</th>\n",
       "      <td>Tom Tom</td>\n",
       "      <td>Confectionery</td>\n",
       "      <td>TOMTOM CLASSIC, TOMTOM STRAWBERRY</td>\n",
       "    </tr>\n",
       "    <tr>\n",
       "      <th>3</th>\n",
       "      <td>Buttermint</td>\n",
       "      <td>Confectionery</td>\n",
       "      <td>BUTTERMINT</td>\n",
       "    </tr>\n",
       "    <tr>\n",
       "      <th>4</th>\n",
       "      <td>Cocoa powder</td>\n",
       "      <td>Intermediate Cocoa Products</td>\n",
       "      <td>COCOA POWDER</td>\n",
       "    </tr>\n",
       "    <tr>\n",
       "      <th>5</th>\n",
       "      <td>Cocoa butter</td>\n",
       "      <td>Intermediate Cocoa Products</td>\n",
       "      <td>COCOA BUTTER</td>\n",
       "    </tr>\n",
       "    <tr>\n",
       "      <th>6</th>\n",
       "      <td>Cocoa liquor</td>\n",
       "      <td>Intermediate Cocoa Products</td>\n",
       "      <td>COCOA POWDER</td>\n",
       "    </tr>\n",
       "    <tr>\n",
       "      <th>7</th>\n",
       "      <td>Cocoa cake</td>\n",
       "      <td>Intermediate Cocoa Products</td>\n",
       "      <td>COCOA POWDER</td>\n",
       "    </tr>\n",
       "  </tbody>\n",
       "</table>\n",
       "</div>"
      ],
      "text/plain": [
       "          Export                      Segment  \\\n",
       "0      Bournvita        Refreshment Beverages   \n",
       "1  Hot Chocolate        Refreshment Beverages   \n",
       "2        Tom Tom                Confectionery   \n",
       "3     Buttermint                Confectionery   \n",
       "4   Cocoa powder  Intermediate Cocoa Products   \n",
       "5   Cocoa butter  Intermediate Cocoa Products   \n",
       "6   Cocoa liquor  Intermediate Cocoa Products   \n",
       "7     Cocoa cake  Intermediate Cocoa Products   \n",
       "\n",
       "                              Brands  \n",
       "0                  CADBURY BOURNVITA  \n",
       "1       CADBURY 3-in-1 HOT CHOCOLATE  \n",
       "2  TOMTOM CLASSIC, TOMTOM STRAWBERRY  \n",
       "3                         BUTTERMINT  \n",
       "4                       COCOA POWDER  \n",
       "5                       COCOA BUTTER  \n",
       "6                       COCOA POWDER  \n",
       "7                       COCOA POWDER  "
      ]
     },
     "execution_count": 10,
     "metadata": {},
     "output_type": "execute_result"
    }
   ],
   "source": [
    "import pandas as pd \n",
    "dict = {\n",
    "    'Export' : [' Bournvita', 'Hot Chocolate','Tom Tom', 'Buttermint', 'Cocoa powder', 'Cocoa butter', 'Cocoa liquor', 'Cocoa cake' ],\n",
    "    'Segment' : ['Refreshment Beverages', 'Refreshment Beverages', 'Confectionery', 'Confectionery', 'Intermediate Cocoa Products', 'Intermediate Cocoa Products', 'Intermediate Cocoa Products', 'Intermediate Cocoa Products'],\n",
    "    'Brands' : ['CADBURY BOURNVITA', 'CADBURY 3-in-1 HOT CHOCOLATE', 'TOMTOM CLASSIC, TOMTOM STRAWBERRY', 'BUTTERMINT', 'COCOA POWDER', 'COCOA BUTTER', 'COCOA POWDER', 'COCOA POWDER']\n",
    "}\n",
    "\n",
    "cadbury_market = pd.DataFrame(dict)\n",
    "\n",
    "cadbury_market.to_csv('cadbury_market.csv')\n",
    "\n",
    "\n",
    "cadbury_market"
   ]
  }
 ],
 "metadata": {
  "kernelspec": {
   "display_name": "Python 3",
   "language": "python",
   "name": "python3"
  },
  "language_info": {
   "codemirror_mode": {
    "name": "ipython",
    "version": 3
   },
   "file_extension": ".py",
   "mimetype": "text/x-python",
   "name": "python",
   "nbconvert_exporter": "python",
   "pygments_lexer": "ipython3",
   "version": "3.13.2"
  }
 },
 "nbformat": 4,
 "nbformat_minor": 4
}
