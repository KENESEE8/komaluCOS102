{
 "cells": [
  {
   "cell_type": "code",
   "execution_count": null,
   "id": "875c7dc1",
   "metadata": {},
   "outputs": [],
   "source": [
    "import tkinter as tk\n",
    "\n",
    "def button_click()\n",
    "    \n",
    "    msgbix.showinfo(\"Welcome to COS 102 GUi App!\"\\n)\n",
    "                    "
   ]
  }
 ],
 "metadata": {
  "language_info": {
   "name": "python"
  }
 },
 "nbformat": 4,
 "nbformat_minor": 5
}
