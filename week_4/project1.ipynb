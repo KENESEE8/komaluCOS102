{
 "cells": [
  {
   "cell_type": "code",
   "execution_count": 4,
   "metadata": {},
   "outputs": [
    {
     "name": "stdout",
     "output_type": "stream",
     "text": [
      "|  NAME    | AGE | HEIGHT | SCORE |\n",
      "+----------+-----+--------+-------+\n",
      "|  Evelyn  | 17  |  5.5   |  80   |\n",
      "| Jessica  | 16  |  6.0   |  85   |\n",
      "|  Somto   | 17  |  5.4   |  70   |\n",
      "|  Edith   | 18  |  5.9   |  60   |\n",
      "|   Liza   | 16  |  5.6   |  76   |\n",
      "| Madonna  | 18  |  5.5   |  66   |\n",
      "|   Waje   | 17  |  6.1   |  87   |\n",
      "|   Tola   | 20  |  6.0   |  95   |\n",
      "|  Aisha   | 19  |  5.7   |  50   |\n",
      "|  Latifa  | 17  |  5.5   |  49   |\n",
      "| Chinedu  | 19  |  5.7   |  74   |\n",
      "|   Liam   | 16  |  5.9   |  87   |\n",
      "|   Wale   | 18  |  5.8   |  75   |\n",
      "|  Gbenga  | 17  |  6.1   |  68   |\n",
      "|  Abiola  | 20  |  5.9   |  66   |\n",
      "|   Kola   | 19  |  5.5   |  78   |\n",
      "|  Kunle   | 16  |  6.1   |  87   |\n",
      "|  George  | 18  |  5.4   |  98   |\n",
      "|  Thomas  | 17  |  5.8   |  54   |\n",
      "|  Wesley  | 19  |  5.7   |  60   |\n"
     ]
    }
   ],
   "source": [
    "students = {\n",
    "     'stud1' : {'name' : 'Evelyn', 'age' : 17, 'height' : 5.5, 'score' : 80},\n",
    "     'stud2' : {'name' : 'Jessica', 'age' : 16, 'height' : 6.0, 'score' : 85},\n",
    "     'stud3' : {'name' : 'Somto', 'age' : 17, 'height' : 5.4, 'score' : 70},\n",
    "     'stud4' : {'name' : 'Edith', 'age' : 18, 'height' : 5.9, 'score' : 60},\n",
    "     'stud5' : {'name' : 'Liza', 'age' : 16, 'height' : 5.6, 'score' : 76},\n",
    "     'stud6' : {'name' : 'Madonna', 'age' : 18, 'height' : 5.5, 'score' : 66},\n",
    "     'stud7' : {'name' : 'Waje', 'age' : 17, 'height' : 6.1, 'score' : 87},\n",
    "     'stud8' : {'name' : 'Tola', 'age' : 20, 'height' : 6.0, 'score' : 95},\n",
    "     'stud9' : {'name' : 'Aisha', 'age' : 19, 'height' : 5.7, 'score' : 50},\n",
    "     'stud10': {'name' : 'Latifa', 'age' : 17, 'height' : 5.5, 'score' : 49},\n",
    "     'stud11': {'name' : 'Chinedu', 'age' : 19, 'height' : 5.7, 'score' : 74},\n",
    "     'stud12': {'name' : 'Liam', 'age' : 16, 'height' : 5.9, 'score' : 87},\n",
    "     'stud13': {'name' : 'Wale', 'age' : 18, 'height' : 5.8, 'score' : 75},\n",
    "     'stud14': {'name' : 'Gbenga', 'age' : 17, 'height' : 6.1, 'score' : 68},\n",
    "     'stud15': {'name' : 'Abiola', 'age' : 20, 'height' : 5.9, 'score' : 66},\n",
    "     'stud16': {'name' : 'Kola', 'age' : 19, 'height' : 5.5, 'score' : 78},\n",
    "     'stud17': {'name' : 'Kunle', 'age' : 16, 'height' : 6.1, 'score' : 87},\n",
    "     'stud18': {'name' : 'George', 'age' : 18, 'height' : 5.4, 'score' : 98},\n",
    "     'stud19': {'name' : 'Thomas', 'age' : 17, 'height' : 5.8, 'score' : 54},\n",
    "     'stud20': {'name' : 'Wesley', 'age' : 19, 'height' : 5.7, 'score' : 60},\n",
    " }\n",
    " #10, 5, 8, 7\n",
    "print (\"|  NAME    | AGE | HEIGHT | SCORE |\")\n",
    "print (\"+----------+-----+--------+-------+\")\n",
    " \n",
    "for stud in students.values() :\n",
    "     print(f\"| {stud['name']:^8} | {stud['age']:^3} | {stud['height']:^6} | {stud['score']:^5} |\")"
   ]
  },
  {
   "cell_type": "code",
   "execution_count": null,
   "metadata": {},
   "outputs": [],
   "source": []
  }
 ],
 "metadata": {
  "kernelspec": {
   "display_name": "Python 3",
   "language": "python",
   "name": "python3"
  },
  "language_info": {
   "codemirror_mode": {
    "name": "ipython",
    "version": 3
   },
   "file_extension": ".py",
   "mimetype": "text/x-python",
   "name": "python",
   "nbconvert_exporter": "python",
   "pygments_lexer": "ipython3",
   "version": "3.13.2"
  }
 },
 "nbformat": 4,
 "nbformat_minor": 2
}
