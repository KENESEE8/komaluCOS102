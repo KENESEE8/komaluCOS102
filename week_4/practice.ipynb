{
 "cells": [
  {
   "cell_type": "code",
   "execution_count": 1,
   "metadata": {},
   "outputs": [
    {
     "name": "stdout",
     "output_type": "stream",
     "text": [
      "Num has value 1\n",
      "Num has value 2\n",
      "Num has value 4\n",
      "Num has value 5\n",
      "Num has value 6\n",
      "End of loop\n"
     ]
    }
   ],
   "source": [
    "num = 0\n",
    "for num in range(6):\n",
    "    num = num + 1\n",
    "    if num == 3:\n",
    "        continue\n",
    "    print (\"Num has value \" + str(num))\n",
    "print(\"End of loop\")"
   ]
  },
  {
   "cell_type": "code",
   "execution_count": null,
   "metadata": {},
   "outputs": [],
   "source": [
    "city_1= input(\"Enter name of city 1:\" ) \n",
    "city_2 = input(\"Enter name of city 2:\" )\n",
    "\n",
    "\n",
    "temp = city_1\n",
    "city_1 = city_2 \n",
    "city_2 = temp\n",
    "\n",
    "print(f\"The name of city 1 after swapping is{city_1}\")\n",
    "print(f\"The name of cityy 2 after swapping is{city_2}\")"
   ]
  },
  {
   "cell_type": "code",
   "execution_count": null,
   "metadata": {},
   "outputs": [],
   "source": [
    "Program to Check if a Number is  Positive, Negative or 0\n",
    " \n",
    " num = float(input(\"Enter a number:  \"))\n",
    " if num > 0 :\n",
    "     print(\"Positive number\")\n",
    " elif num == 0 :\n",
    "     print(\"0\")\n",
    " else :"
   ]
  },
  {
   "cell_type": "code",
   "execution_count": 7,
   "metadata": {},
   "outputs": [
    {
     "name": "stdout",
     "output_type": "stream",
     "text": [
      "Welcome to the COUPE DE ESCRIVA 2023: FOOTBALL PICKS \n",
      "\n",
      "Madiba:  Chubby Obiora-Okafo\n",
      "Blue-Jays:  Christopher Uweh\n",
      "Cirok:  Alexander\n",
      "TSG Walkers:  Ikechukwu\n",
      "\n",
      "\n",
      "Madiba:  Chubby Obiora-Okafo\n",
      "Blue-Jays:  Oladimeji Abaniwondea/Jeffery Awagu\n",
      "Cirok:  Timileyin Pearse/Izuako Jeremy\n",
      "TSG Walkers:  Ayomide Ojituku\n"
     ]
    }
   ],
   "source": [
    "# COUPE DE ESCRIVA 2023: FOOTBALL PICKS\n",
    " \n",
    "print(\"Welcome to the COUPE DE ESCRIVA 2023: FOOTBALL PICKS \\n\")\n",
    " \n",
    "captain = {'Madiba: ': 'Chubby Obiora-Okafo', 'Blue-Jays: ': 'Christopher Uweh',\n",
    " 'Cirok: ': 'Alexander', 'TSG Walkers: ': 'Ikechukwu'}\n",
    " \n",
    "goalkeepers = {'Madiba: ': 'Chubby Obiora-Okafo',\n",
    " 'Blue-Jays: ': 'Oladimeji Abaniwondea/Jeffery Awagu',\n",
    " 'Cirok: ': 'Timileyin Pearse/Izuako Jeremy',\n",
    " 'TSG Walkers: ': 'Ayomide Ojituku'}\n",
    " \n",
    "for pick in captain:\n",
    "     print(pick, captain [pick])\n",
    " \n",
    "print(\"\\n\")\n",
    " \n",
    "for pick in goalkeepers:\n",
    "     print(pick, goalkeepers [pick])"
   ]
  }
 ],
 "metadata": {
  "kernelspec": {
   "display_name": "Python 3",
   "language": "python",
   "name": "python3"
  },
  "language_info": {
   "codemirror_mode": {
    "name": "ipython",
    "version": 3
   },
   "file_extension": ".py",
   "mimetype": "text/x-python",
   "name": "python",
   "nbconvert_exporter": "python",
   "pygments_lexer": "ipython3",
   "version": "3.13.2"
  }
 },
 "nbformat": 4,
 "nbformat_minor": 2
}
