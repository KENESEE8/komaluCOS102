{
 "cells": [
  {
   "cell_type": "code",
   "execution_count": 3,
   "metadata": {},
   "outputs": [
    {
     "name": "stdout",
     "output_type": "stream",
     "text": [
      "               Let's Find Roots\n",
      "\n",
      "To calculate the root you will first have to select the type of equation \n",
      "1. QUADRATIC\n",
      "2.CUBIC\n",
      "3. QUARTIC\n"
     ]
    }
   ],
   "source": [
    "\n",
    "\n",
    "print(\"               Let's Find Roots\")\n",
    "print(\"\\nTo calculate the root you will first have to select the type of equation \")\n",
    "print(\"1. QUADRATIC\\n2.CUBIC\\n3. QUARTIC\")\n",
    "opt = int(input(\"Please input the number associated with\\nthe type of equation you'd like to calculate for :   \"))\n",
    "if opt == 1:\n",
    "    a= float(input(\"WHAT IS A, THE COEFFICIENT OF X^2 :    \"))\n",
    "    b = float(input(\"WHAT IS B, THE COEFFICIENT OF X :   \"))\n",
    "    c = float(input(\"WHAT IS C, THE CONSTANT :    \"))\n",
    "    d = (b**2) - (4*a*c)\n",
    "    if d > 0 :\n",
    "        x1 = (-b + (d**0.5) )  / (2*a)\n",
    "        x2 = (-b - (d**0.5) )  / (2*a)\n",
    "        print(f\"THE EQUATION : {a}x^2 + {b}x + {c} has two real and distinct roots\")\n",
    "        print(f\"The roots are  x= {x1} or {x2}\")\n",
    "    elif d == 0 :\n",
    "        x =  -b / (2*a)\n",
    "        print(f\"THE EQUATION : {a}x^2 + {b}x + {c} has two real and equal roots\")\n",
    "        print(f\"The roots are  x= {x}\")\n",
    "    elif d < 0 :\n",
    "        print(\"The equation has imaginary roots\")\n",
    "elif opt == 2 :\n",
    "    print(\"\")\n"
   ]
  }
 ],
 "metadata": {
  "kernelspec": {
   "display_name": "Python 3",
   "language": "python",
   "name": "python3"
  },
  "language_info": {
   "codemirror_mode": {
    "name": "ipython",
    "version": 3
   },
   "file_extension": ".py",
   "mimetype": "text/x-python",
   "name": "python",
   "nbconvert_exporter": "python",
   "pygments_lexer": "ipython3",
   "version": "3.13.2"
  }
 },
 "nbformat": 4,
 "nbformat_minor": 2
}
