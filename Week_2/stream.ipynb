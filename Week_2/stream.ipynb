{
 "cells": [
  {
   "cell_type": "code",
   "execution_count": 2,
   "metadata": {},
   "outputs": [
    {
     "name": "stdout",
     "output_type": "stream",
     "text": [
      "('abeokjuta ', 300, 'abeokjuta ', 300, 'abeokjuta ', 300)\n"
     ]
    }
   ],
   "source": [
    "tuple = (\"Ekiti\", 750 ,'Oshogbo')\n",
    "s_tuple = (\"abeokjuta \", 300)\n",
    "print( s_tuple * 3 )"
   ]
  },
  {
   "cell_type": "code",
   "execution_count": 5,
   "metadata": {},
   "outputs": [
    {
     "name": "stdout",
     "output_type": "stream",
     "text": [
      "Even sum: 26\n"
     ]
    }
   ],
   "source": [
    "\n",
    "\n",
    "nums = [5, 12, 7, 3, 14, 11]\n",
    "even_sum = 0\n",
    "for n in nums:\n",
    "    if n % 2 != 0:\n",
    "        continue\n",
    "    even_sum += n\n",
    "print(\"Even sum:\", even_sum)\n"
   ]
  },
  {
   "cell_type": "code",
   "execution_count": null,
   "metadata": {},
   "outputs": [],
   "source": []
  },
  {
   "cell_type": "code",
   "execution_count": null,
   "metadata": {},
   "outputs": [],
   "source": []
  }
 ],
 "metadata": {
  "kernelspec": {
   "display_name": "Python 3",
   "language": "python",
   "name": "python3"
  },
  "language_info": {
   "codemirror_mode": {
    "name": "ipython",
    "version": 3
   },
   "file_extension": ".py",
   "mimetype": "text/x-python",
   "name": "python",
   "nbconvert_exporter": "python",
   "pygments_lexer": "ipython3",
   "version": "3.13.2"
  }
 },
 "nbformat": 4,
 "nbformat_minor": 2
}
