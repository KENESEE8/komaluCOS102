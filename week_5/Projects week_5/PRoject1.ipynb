{
 "cells": [
  {
   "cell_type": "code",
   "execution_count": null,
   "id": "40a677fe",
   "metadata": {},
   "outputs": [],
   "source": []
  },
  {
   "cell_type": "code",
   "execution_count": 2,
   "id": "0409b1b6",
   "metadata": {},
   "outputs": [
    {
     "name": "stdout",
     "output_type": "stream",
     "text": [
      "WELCOME DUDUKE lOGISTICS PRE-PLANNER \n",
      "The delivery cost to Epe is N10000.\n"
     ]
    }
   ],
   "source": [
    "\n",
    "import tkinter as tk\n",
    "from tkinter import messagebox\n",
    "\n",
    "\n",
    "print(\"WELCOME DUDUKE lOGISTICS PRE-PLANNER \")\n",
    "\n",
    "while True:\n",
    "    location = input(\"Enter your delivery location(Ibeju-Lekki or Epe): \")\n",
    "    if location in(\"Ibeju-Lekki\" , \"Epe\"):\n",
    "        break\n",
    "    else:\n",
    "        print(\"Invalid location. Please pick from our available options.\")\n",
    "\n",
    "while True:\n",
    "    weight = float(input(\"Enter package weight in kg: \"))\n",
    "    if weight >= 0: # Check that the weight is not negative\n",
    "            break\n",
    "    else:\n",
    "            print(\"Weight must be a non-negative number.\")\n",
    "else:\n",
    "    print(\"Invalid input. Please enter a number.\")\n",
    "\n",
    "\n",
    "\n",
    "if location == \"Ibeju-Lekki\":\n",
    "    if weight >= 10:\n",
    "        cost = 5000\n",
    "    else:\n",
    "        cost = 3500\n",
    "elif location == \"Epe\":\n",
    "    if weight >= 10:\n",
    "        cost = 10000\n",
    "    else:\n",
    "        cost = 5000\n",
    "\n",
    "print(f\"The delivery cost to {location} is N{cost}.\")\n",
    "while True: \n",
    "    user_input = input(\"Do you want to calculate another delivery cost? (yes/no): \").lower()\n",
    "    if user_input == \"yes\":\n",
    "      break\n",
    "    elif user_input == \"no\":\n",
    "        print(\"Thank you for patronizing DUDUKE LOGISTICS!\")\n",
    "        exit() \n",
    "    else:\n",
    "        print(\"Invalid input. Please enter 'yes' or 'no'.\")\n",
    "\n",
    "     "
   ]
  },
  {
   "cell_type": "code",
   "execution_count": null,
   "id": "021441c2",
   "metadata": {},
   "outputs": [],
   "source": []
  }
 ],
 "metadata": {
  "kernelspec": {
   "display_name": "Python 3",
   "language": "python",
   "name": "python3"
  },
  "language_info": {
   "codemirror_mode": {
    "name": "ipython",
    "version": 3
   },
   "file_extension": ".py",
   "mimetype": "text/x-python",
   "name": "python",
   "nbconvert_exporter": "python",
   "pygments_lexer": "ipython3",
   "version": "3.13.2"
  }
 },
 "nbformat": 4,
 "nbformat_minor": 5
}
